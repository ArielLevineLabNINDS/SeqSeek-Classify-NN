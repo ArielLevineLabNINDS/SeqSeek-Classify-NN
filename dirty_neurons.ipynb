{
 "cells": [
  {
   "cell_type": "markdown",
   "metadata": {
    "colab_type": "text",
    "id": "xCyPKCPZ6yzG"
   },
   "source": [
    "let's import some packages and define a few functions that will be helpful later\n"
   ]
  },
  {
   "cell_type": "code",
   "execution_count": 2,
   "metadata": {
    "colab": {},
    "colab_type": "code",
    "id": "eSBCSqR-3aN5"
   },
   "outputs": [],
   "source": [
    "import pandas as pd\n",
    "import numpy as np\n",
    "import tensorflow as tf\n",
    "\n",
    "import scipy\n",
    "import scipy.io\n",
    "import time\n",
    "import sklearn.preprocessing\n",
    "\n",
    "from collections import Counter\n",
    "\n",
    "import os.path\n",
    "from os import path"
   ]
  },
  {
   "cell_type": "code",
   "execution_count": 25,
   "metadata": {
    "colab": {},
    "colab_type": "code",
    "id": "_-Xa7ADY6xK-"
   },
   "outputs": [],
   "source": [
    "from matplotlib import pyplot as plt\n",
    "def plot_hist(hist):\n",
    "    plt.plot(hist.history['accuracy'])\n",
    "    plt.plot(hist.history['val_accuracy'])\n",
    "    plt.title('model accuracy')\n",
    "    plt.ylabel('accuracy')\n",
    "    plt.xlabel('epoch')\n",
    "    plt.legend(['train', 'val'], loc='upper left')\n",
    "    plt.show()\n",
    "    plt.plot(hist.history['loss'])\n",
    "    plt.plot(hist.history['val_loss'])\n",
    "    plt.title('model loss')\n",
    "    plt.ylabel('loss')\n",
    "    plt.xlabel('epoch')\n",
    "    plt.legend(['train', 'val'], loc='upper left')\n",
    "    plt.show()\n",
    "\n",
    "## filter/log_normalize/convert the sparse matrix to a sparse tensor \n",
    "def make_log_maxn_tensor(sparseMatrix,ds_list,ds_type):\n",
    "  # filter the sparse matrix... (note: cannot be a COO formatted matrix)\n",
    "  indx = np.equal( np.array(ds_list,dtype=object),np.array(ds_type,dtype=object) )\n",
    "  x0 = sparseMatrix[indx,:]\n",
    "  del indx\n",
    "\n",
    "  # get the log transform...\n",
    "  x0.data = np.log1p(x0.data)\n",
    "  # normalize to the max...\n",
    "  sklearn.preprocessing.normalize(x0, norm=\"max\", axis=1, copy=False)\n",
    "\n",
    "  # convert the filtered matrix to COO format\n",
    "  x0 = x0.tocoo()\n",
    "  indices = np.mat([x0.row, x0.col]).transpose()\n",
    "\n",
    "  # make a sparse tensor and re-order it...\n",
    "  x0 = tf.SparseTensor(indices,x0.data,x0.shape)\n",
    "  x0 = tf.sparse.reorder(x0)\n",
    "  return x0\n",
    "\n",
    "\n",
    "def make_cm(nn_model,test_data_x,test_data_y,labels):\n",
    "    pred = nn_model.predict(test_data_x)\n",
    "    cm = tf.math.confusion_matrix(\n",
    "        labels=np.argmax(test_data_y,axis=1), predictions=np.argmax(pred,axis=1)\n",
    "    )\n",
    "    return cm\n",
    "def make_pred_and_save_cm(nn_model,test_data_x,test_data_y,labels,output_path):\n",
    "  pred = nn_model.predict(test_data_x)\n",
    "  cm = tf.math.confusion_matrix(\n",
    "    labels=np.argmax(test_data_y,axis=1), predictions=np.argmax(pred,axis=1)\n",
    "  )\n",
    "  np.savetxt(output_path, cm, delimiter=',', header=\",\".join(labels))\n",
    "  print(np.diag(cm)/np.sum(cm,axis=1))"
   ]
  },
  {
   "cell_type": "markdown",
   "metadata": {
    "colab_type": "text",
    "id": "NSDbVkzb3dlU"
   },
   "source": [
    "# Loading the data\n",
    "The data is in the form of a sparse matrix (Matrix Market format) + labels(csv)"
   ]
  },
  {
   "cell_type": "code",
   "execution_count": 3,
   "metadata": {
    "colab": {
     "base_uri": "https://localhost:8080/",
     "height": 409
    },
    "colab_type": "code",
    "executionInfo": {
     "elapsed": 7181,
     "status": "error",
     "timestamp": 1595447033943,
     "user": {
      "displayName": "Daniel Russ",
      "photoUrl": "",
      "userId": "14977046737090539300"
     },
     "user_tz": 240
    },
    "id": "rWBzXHUi4K8w",
    "outputId": "dfa9ffaf-6f89-405c-eaa4-20e04a6ad239"
   },
   "outputs": [
    {
     "name": "stdout",
     "output_type": "stream",
     "text": [
      "time to read data files: 0.073 s\n",
      "all cell_ids from the labels == cell_ids from matrix: True\n",
      "time to read matrix: 62.649 s\n",
      "converting raw counts to CSR\n",
      "time to convert matrix: -0.000 s\n"
     ]
    }
   ],
   "source": [
    "t0 = time.time()\n",
    "genes = pd.read_csv(\"filtered_neurons_doublets_genes.tsv\",names=[\"gene\"])\n",
    "df = pd.read_csv(\"filtered_neurons_doublets_barcodes.tsv\",names=[\"cell_id\"])\n",
    "lbl = pd.read_csv(\"filtered_neurons_doublets_labels.csv\")\n",
    "t1 = time.time()\n",
    "print(f\"time to read data files: {t1-t0:.3f} s\")\n",
    "print(f\"all cell_ids from the labels == cell_ids from matrix: {all(df.cell_id == lbl.cell_id)}\")\n",
    "\n",
    "t0 = time.time()\n",
    "dirty_neurons = scipy.io.mmread(\"filtered_neurons_doublets.mtx\")\n",
    "t1 = time.time()\n",
    "print(f\"time to read matrix: {t1-t0:.3f} s\")\n",
    "if scipy.sparse.isspmatrix_coo(dirty_neurons):\n",
    "  print(\"converting raw counts to CSR\")\n",
    "  t0 = time.time()\n",
    "  dirty_neurons = dirty_neurons.tocsr()\n",
    "  t1 = time.time()\n",
    "  print(f\"time to convert matrix: {t1-t0:.3f} s\")"
   ]
  },
  {
   "cell_type": "code",
   "execution_count": 5,
   "metadata": {
    "colab": {
     "base_uri": "https://localhost:8080/",
     "height": 375
    },
    "colab_type": "code",
    "executionInfo": {
     "elapsed": 84029,
     "status": "error",
     "timestamp": 1595450312636,
     "user": {
      "displayName": "Daniel Russ",
      "photoUrl": "",
      "userId": "14977046737090539300"
     },
     "user_tz": 240
    },
    "id": "ZsQhhbz8AnQH",
    "outputId": "5a71f154-ec4a-49bf-962d-613c11079328"
   },
   "outputs": [
    {
     "name": "stdout",
     "output_type": "stream",
     "text": [
      "{'Garbage': 8885, 'Inhib-16': 311, 'Inhib-27': 619, 'Excit-23': 235, 'Excit-16': 721, 'Inhib-01': 908, 'Inhib-02': 727, 'Excit-12': 179, 'Excit-04': 394, 'Inhib-22': 250, 'Inhib-05': 150, 'Excit-36': 192, 'Excit-14': 421, 'Inhib-23': 512, 'Excit-01': 266, 'Excit-19': 455, 'Inhib-10': 221, 'Excit-05': 585, 'Inhib-17': 317, 'Excit-06': 390, 'Inhib-13': 240, 'Inhib-07': 353, 'Excit-31': 719, 'Excit-38': 92, 'Excit-10': 624, 'Excit-25': 202, 'Excit-24': 216, 'Inhib-15': 332, 'Excit-03': 323, 'Excit-18': 442, 'Excit-20': 491, 'Excit-27': 89, 'Inhib-12': 342, 'Inhib-06': 283, 'Inhib-08': 153, 'Excit-29': 154, 'Inhib-18': 164, 'Excit-13': 174, 'Inhib-04': 182, 'MN-alpha': 237, 'Excit-15': 274, 'Excit-08': 296, 'Inhib-11': 584, 'Excit-28': 27, 'Inhib-09': 283, 'Excit-32': 602, 'Excit-09': 279, 'Inhib-14': 135, 'MN-gamma': 88, 'Inhib-19': 139, 'Excit-21': 150, 'Excit-11': 166, 'Inhib-24': 139, 'CSF-cN': 126, 'Inhib-21': 65, 'Excit-22': 117, 'Excit-02': 117, 'Inhib-26': 34, 'Inhib-03': 215, 'Excit-26': 157, 'Inhib-20': 118, 'Excit-34': 161, 'Inhib-25': 106, 'Excit-37': 24, 'PGC': 86, 'Excit-35': 371, 'Excit-30': 95, 'Excit-33': 181, 'Excit-17': 318, 'Excit-07': 235}\n",
      "70\n"
     ]
    }
   ],
   "source": [
    "cell_label = lbl.final_cluster_assignment.values\n",
    "label_encoder = sklearn.preprocessing.LabelEncoder()\n",
    "label_encoder.fit(list(set(cell_label)))\n",
    "ohe_encoder = sklearn.preprocessing.LabelBinarizer()\n",
    "ohe_encoder.fit(list(set(cell_label)))\n",
    "num_classes = len(label_encoder.classes_)\n",
    "y = ohe_encoder.transform(cell_label)\n",
    "print(dict(Counter(cell_label)))\n",
    "print(num_classes)\n",
    "del cell_label\n",
    "\n",
    "# save the label_encoder\n",
    "np.save('dirty_neuron_encoder.npy', label_encoder.classes_)\n",
    "# to load the encoder\n",
    "# label_encoder = sklearn.preprocessing.LabelEncoder()\n",
    "# label_encoder.classes_ = np.load('dirty_neuron_encoder.npy')\n",
    "# ohe_encoder = sklearn.preprocessing.LabelBinarizer()\n",
    "# ohe_encoder.classes_ = np.load('dirty_neuron_encoder.npy')"
   ]
  },
  {
   "cell_type": "markdown",
   "metadata": {
    "colab_type": "text",
    "id": "K5lBU1xQ77LG"
   },
   "source": [
    "# Split the data into Train, Validation, and Test data\n",
    "using the md5 hash to make the split reproducible.  "
   ]
  },
  {
   "cell_type": "code",
   "execution_count": 8,
   "metadata": {
    "colab": {
     "base_uri": "https://localhost:8080/",
     "height": 34
    },
    "colab_type": "code",
    "executionInfo": {
     "elapsed": 1099,
     "status": "ok",
     "timestamp": 1595445187762,
     "user": {
      "displayName": "Daniel Russ",
      "photoUrl": "",
      "userId": "14977046737090539300"
     },
     "user_tz": 240
    },
    "id": "3GpWXqfa60OU",
    "outputId": "3497ab84-6311-4d8f-a2c9-a76721c0c5d1"
   },
   "outputs": [
    {
     "name": "stdout",
     "output_type": "stream",
     "text": [
      "Counter({'Train': 22591, 'Val': 2837, 'Test': 2810})\n"
     ]
    }
   ],
   "source": [
    "import hashlib\n",
    "bchash = list( map(lambda bc: int(hashlib.md5(bc.encode()).hexdigest(),16)%100,lbl.cell_id))\n",
    "dataset = list( map(lambda hash: \"Train\" if hash<80 else (\"Val\" if hash < 90 else \"Test\"),bchash) )\n",
    "del bchash\n",
    "print(Counter(dataset))"
   ]
  },
  {
   "cell_type": "code",
   "execution_count": 9,
   "metadata": {
    "colab": {
     "base_uri": "https://localhost:8080/",
     "height": 102
    },
    "colab_type": "code",
    "executionInfo": {
     "elapsed": 620,
     "status": "ok",
     "timestamp": 1595445500286,
     "user": {
      "displayName": "Daniel Russ",
      "photoUrl": "",
      "userId": "14977046737090539300"
     },
     "user_tz": 240
    },
    "id": "QyKg0Pkh9CzK",
    "outputId": "99e11b84-b172-4e76-b15a-4bfa45cc35ec"
   },
   "outputs": [
    {
     "name": "stdout",
     "output_type": "stream",
     "text": [
      "(28238, 25419)\n",
      "(28238, 3)\n",
      "(28238, 1)\n",
      "(25419, 1)\n",
      "28238\n"
     ]
    }
   ],
   "source": [
    "print(dirty_neurons.shape)\n",
    "print(lbl.shape)\n",
    "print(df.shape)\n",
    "print(genes.shape)\n",
    "print(len(dataset))"
   ]
  },
  {
   "cell_type": "code",
   "execution_count": 10,
   "metadata": {
    "colab": {
     "base_uri": "https://localhost:8080/",
     "height": 732
    },
    "colab_type": "code",
    "executionInfo": {
     "elapsed": 583,
     "status": "error",
     "timestamp": 1595445253296,
     "user": {
      "displayName": "Daniel Russ",
      "photoUrl": "",
      "userId": "14977046737090539300"
     },
     "user_tz": 240
    },
    "id": "nyOVowVC8gaV",
    "outputId": "44dba854-947a-41fa-874b-13431fb446ce"
   },
   "outputs": [
    {
     "name": "stdout",
     "output_type": "stream",
     "text": [
      "time to convert sparse matrix to sparse tensor for the Training data: 2.855 s\n",
      "time to convert sparse matrix to sparse tensor for the Validation data: 0.291 s\n",
      "time to convert sparse matrix to sparse tensor for the Test data: 0.301 s\n"
     ]
    }
   ],
   "source": [
    "t0 = time.time()\n",
    "x_train = make_log_maxn_tensor(dirty_neurons,dataset,\"Train\")\n",
    "t1 = time.time()\n",
    "print(f\"time to convert sparse matrix to sparse tensor for the Training data: {t1-t0:.3f} s\")\n",
    "t0 = time.time()\n",
    "x_val   = make_log_maxn_tensor(dirty_neurons,dataset,\"Val\")\n",
    "t1 = time.time()\n",
    "print(f\"time to convert sparse matrix to sparse tensor for the Validation data: {t1-t0:.3f} s\")\n",
    "t0 = time.time()\n",
    "x_test  = make_log_maxn_tensor(dirty_neurons,dataset,\"Test\")\n",
    "t1 = time.time()\n",
    "print(f\"time to convert sparse matrix to sparse tensor for the Test data: {t1-t0:.3f} s\")\n"
   ]
  },
  {
   "cell_type": "code",
   "execution_count": 11,
   "metadata": {},
   "outputs": [
    {
     "name": "stdout",
     "output_type": "stream",
     "text": [
      "(22591, 70)\n",
      "(2837, 70)\n",
      "(2810, 70)\n"
     ]
    }
   ],
   "source": [
    "train_mask = [x == \"Train\" for x in dataset]\n",
    "y_train    = y[train_mask,:]\n",
    "val_mask   = [x == \"Val\" for x in dataset]\n",
    "y_val      = y[val_mask,:]\n",
    "test_mask  = [x == \"Test\" for x in dataset]\n",
    "y_test    = y[test_mask,:]\n",
    "\n",
    "print(y_train.shape)\n",
    "print(y_val.shape)\n",
    "print(y_test.shape)"
   ]
  },
  {
   "cell_type": "markdown",
   "metadata": {},
   "source": [
    "# Make the network"
   ]
  },
  {
   "cell_type": "code",
   "execution_count": 12,
   "metadata": {},
   "outputs": [
    {
     "name": "stdout",
     "output_type": "stream",
     "text": [
      "in: 25419 out:70\n"
     ]
    }
   ],
   "source": [
    "num_inp = dirty_neurons.shape[1]\n",
    "num_out = len(ohe_encoder.classes_)\n",
    "\n",
    "print(f\"in: {num_inp} out:{num_out}\")"
   ]
  },
  {
   "cell_type": "markdown",
   "metadata": {},
   "source": [
    "First a linear model"
   ]
  },
  {
   "cell_type": "code",
   "execution_count": 74,
   "metadata": {},
   "outputs": [
    {
     "name": "stdout",
     "output_type": "stream",
     "text": [
      "Model: \"sequential_3\"\n",
      "_________________________________________________________________\n",
      "Layer (type)                 Output Shape              Param #   \n",
      "=================================================================\n",
      "cell_type (Dense)            (None, 70)                1779400   \n",
      "=================================================================\n",
      "Total params: 1,779,400\n",
      "Trainable params: 1,779,400\n",
      "Non-trainable params: 0\n",
      "_________________________________________________________________\n",
      "Epoch 1/40\n",
      "706/706 [==============================] - 7s 9ms/step - loss: 2.0510 - accuracy: 0.5560 - val_loss: 1.2671 - val_accuracy: 0.7237\n",
      "Epoch 2/40\n",
      "706/706 [==============================] - 7s 10ms/step - loss: 0.6871 - accuracy: 0.8699 - val_loss: 0.9308 - val_accuracy: 0.7737\n",
      "Epoch 3/40\n",
      "706/706 [==============================] - 7s 10ms/step - loss: 0.3661 - accuracy: 0.9420 - val_loss: 0.8393 - val_accuracy: 0.7730\n",
      "Epoch 4/40\n",
      "706/706 [==============================] - 7s 10ms/step - loss: 0.2193 - accuracy: 0.9737 - val_loss: 0.7665 - val_accuracy: 0.7959\n",
      "Epoch 5/40\n",
      "706/706 [==============================] - 7s 10ms/step - loss: 0.1372 - accuracy: 0.9889 - val_loss: 0.7279 - val_accuracy: 0.8008\n",
      "Epoch 6/40\n",
      "706/706 [==============================] - 7s 11ms/step - loss: 0.1033 - accuracy: 0.9933 - val_loss: 0.7426 - val_accuracy: 0.7896\n",
      "Epoch 7/40\n",
      "706/706 [==============================] - 7s 10ms/step - loss: 0.0677 - accuracy: 0.9962 - val_loss: 0.7770 - val_accuracy: 0.7875\n",
      "Epoch 8/40\n",
      "706/706 [==============================] - 7s 11ms/step - loss: 0.0440 - accuracy: 0.9991 - val_loss: 0.7142 - val_accuracy: 0.7980\n",
      "Epoch 9/40\n",
      "706/706 [==============================] - 7s 10ms/step - loss: 0.0360 - accuracy: 0.9988 - val_loss: 0.7148 - val_accuracy: 0.7977\n",
      "Epoch 10/40\n",
      "706/706 [==============================] - 8s 11ms/step - loss: 0.0244 - accuracy: 0.9997 - val_loss: 0.7111 - val_accuracy: 0.7963\n",
      "Epoch 11/40\n",
      "706/706 [==============================] - 8s 11ms/step - loss: 0.0171 - accuracy: 1.0000 - val_loss: 0.7290 - val_accuracy: 0.7949\n",
      "Epoch 12/40\n",
      "706/706 [==============================] - 8s 11ms/step - loss: 0.0128 - accuracy: 1.0000 - val_loss: 0.7314 - val_accuracy: 0.7920\n",
      "Epoch 13/40\n",
      "706/706 [==============================] - 7s 10ms/step - loss: 0.0096 - accuracy: 1.0000 - val_loss: 0.7327 - val_accuracy: 0.7966\n",
      "Epoch 14/40\n",
      "706/706 [==============================] - 7s 11ms/step - loss: 0.0072 - accuracy: 1.0000 - val_loss: 0.7296 - val_accuracy: 0.7984\n",
      "Epoch 15/40\n",
      "706/706 [==============================] - 7s 11ms/step - loss: 0.0054 - accuracy: 1.0000 - val_loss: 0.7328 - val_accuracy: 0.8047\n",
      "Epoch 16/40\n",
      "706/706 [==============================] - 7s 10ms/step - loss: 0.0040 - accuracy: 1.0000 - val_loss: 0.7409 - val_accuracy: 0.8012\n",
      "Epoch 17/40\n",
      "706/706 [==============================] - 7s 10ms/step - loss: 0.0030 - accuracy: 1.0000 - val_loss: 0.7659 - val_accuracy: 0.7977\n",
      "Epoch 18/40\n",
      "706/706 [==============================] - 7s 9ms/step - loss: 0.0355 - accuracy: 0.9956 - val_loss: 0.9661 - val_accuracy: 0.7762\n",
      "Epoch 19/40\n",
      "706/706 [==============================] - 8s 11ms/step - loss: 0.0125 - accuracy: 0.9984 - val_loss: 0.7864 - val_accuracy: 0.7998\n",
      "Epoch 20/40\n",
      "706/706 [==============================] - 8s 11ms/step - loss: 0.0024 - accuracy: 0.9998 - val_loss: 0.7792 - val_accuracy: 0.8008\n",
      "Epoch 21/40\n",
      "706/706 [==============================] - 8s 11ms/step - loss: 0.0015 - accuracy: 1.0000 - val_loss: 0.7831 - val_accuracy: 0.8033\n",
      "Epoch 22/40\n",
      "706/706 [==============================] - 7s 11ms/step - loss: 0.0013 - accuracy: 1.0000 - val_loss: 0.7966 - val_accuracy: 0.8016\n",
      "Epoch 23/40\n",
      "706/706 [==============================] - 8s 11ms/step - loss: 0.0012 - accuracy: 1.0000 - val_loss: 0.7810 - val_accuracy: 0.8040\n",
      "Epoch 24/40\n",
      "706/706 [==============================] - 8s 11ms/step - loss: 0.0011 - accuracy: 1.0000 - val_loss: 0.8051 - val_accuracy: 0.8016\n",
      "Epoch 25/40\n",
      "706/706 [==============================] - 8s 11ms/step - loss: 9.6958e-04 - accuracy: 1.0000 - val_loss: 0.8068 - val_accuracy: 0.8012\n",
      "Epoch 26/40\n",
      "706/706 [==============================] - 7s 10ms/step - loss: 0.0223 - accuracy: 0.9967 - val_loss: 0.9299 - val_accuracy: 0.7769\n",
      "Epoch 27/40\n",
      "706/706 [==============================] - 8s 11ms/step - loss: 0.0027 - accuracy: 0.9996 - val_loss: 0.8197 - val_accuracy: 0.8005\n",
      "Epoch 28/40\n",
      "706/706 [==============================] - 8s 11ms/step - loss: 7.3924e-04 - accuracy: 1.0000 - val_loss: 0.8281 - val_accuracy: 0.8019\n",
      "Epoch 29/40\n",
      "706/706 [==============================] - 7s 11ms/step - loss: 6.7642e-04 - accuracy: 1.0000 - val_loss: 0.8367 - val_accuracy: 0.8019\n",
      "Epoch 30/40\n",
      "706/706 [==============================] - 7s 10ms/step - loss: 6.2139e-04 - accuracy: 1.0000 - val_loss: 0.8510 - val_accuracy: 0.7991\n",
      "Epoch 31/40\n",
      "706/706 [==============================] - 7s 11ms/step - loss: 5.6737e-04 - accuracy: 1.0000 - val_loss: 0.8483 - val_accuracy: 0.8005\n",
      "Epoch 32/40\n",
      "706/706 [==============================] - 7s 10ms/step - loss: 5.1382e-04 - accuracy: 1.0000 - val_loss: 0.8585 - val_accuracy: 0.7984\n",
      "Epoch 33/40\n",
      "706/706 [==============================] - 7s 10ms/step - loss: 4.5949e-04 - accuracy: 1.0000 - val_loss: 0.8711 - val_accuracy: 0.7987\n",
      "Epoch 34/40\n",
      "706/706 [==============================] - 8s 11ms/step - loss: 4.0535e-04 - accuracy: 1.0000 - val_loss: 0.8791 - val_accuracy: 0.7994\n",
      "Epoch 35/40\n",
      "706/706 [==============================] - 8s 11ms/step - loss: 3.5318e-04 - accuracy: 1.0000 - val_loss: 0.8868 - val_accuracy: 0.7994\n",
      "Epoch 36/40\n",
      "706/706 [==============================] - 7s 11ms/step - loss: 3.0333e-04 - accuracy: 1.0000 - val_loss: 0.8875 - val_accuracy: 0.8019\n",
      "Epoch 37/40\n",
      "706/706 [==============================] - 8s 11ms/step - loss: 2.5659e-04 - accuracy: 1.0000 - val_loss: 0.8842 - val_accuracy: 0.8030\n",
      "Epoch 38/40\n",
      "706/706 [==============================] - 7s 11ms/step - loss: 2.1409e-04 - accuracy: 1.0000 - val_loss: 0.9160 - val_accuracy: 0.8030\n",
      "Epoch 39/40\n",
      "706/706 [==============================] - 8s 11ms/step - loss: 1.7628e-04 - accuracy: 1.0000 - val_loss: 0.9116 - val_accuracy: 0.8023\n",
      "Epoch 40/40\n",
      "706/706 [==============================] - 8s 11ms/step - loss: 1.4341e-04 - accuracy: 1.0000 - val_loss: 0.9252 - val_accuracy: 0.8040\n"
     ]
    },
    {
     "data": {
      "image/png": "[encoded data removed]",
      "text/plain": [
       "<Figure size 432x288 with 1 Axes>"
      ]
     },
     "metadata": {
      "needs_background": "light"
     },
     "output_type": "display_data"
    },
    {
     "data": {
      "image/png": "[encoded data removed]",
      "text/plain": [
       "<Figure size 432x288 with 1 Axes>"
      ]
     },
     "metadata": {
      "needs_background": "light"
     },
     "output_type": "display_data"
    }
   ],
   "source": [
    "model1 = tf.keras.models.Sequential()\n",
    "model1.add( tf.keras.layers.Input(shape=(num_inp,),name=\"cell_inp\") )\n",
    "model1.add( tf.keras.layers.Dense(num_out,activation=\"softmax\",name=\"cell_type\") )\n",
    "model1.summary()\n",
    "model1.compile(loss='categorical_crossentropy', optimizer=\"adam\", metrics=['accuracy'])\n",
    "hist1=model1.fit(x=x_train,y=y_train,epochs=40,batch_size=32,validation_data=(x_val,y_val))\n",
    "plot_hist(hist1)\n"
   ]
  },
  {
   "cell_type": "code",
   "execution_count": 77,
   "metadata": {},
   "outputs": [
    {
     "name": "stdout",
     "output_type": "stream",
     "text": [
      "[0.5625     0.9        0.625      0.875      0.80952381 0.85714286\n",
      " 0.73684211 0.92       0.84210526 0.77777778 0.95588235 0.68181818\n",
      " 0.6875     0.9        0.86666667 0.70833333 0.93975904 0.95454545\n",
      " 0.66037736 0.77192982 0.69767442 0.64705882 0.35714286 0.67857143\n",
      " 0.30434783 0.88235294 0.15789474 0.18181818 0.16666667 0.5\n",
      " 0.8        0.7260274  0.71428571 0.15384615 0.27272727 0.83333333\n",
      " 0.3125     0.66666667 0.1        0.96853933 0.88888889 0.84126984\n",
      " 0.86666667 0.83333333 0.53846154 0.66666667 0.86666667 0.625\n",
      " 0.82608696 0.75       0.83529412 0.74074074 0.75       0.2\n",
      " 0.74285714 0.55172414 0.62857143 0.58333333 0.5        0.25\n",
      " 0.         0.29166667 0.56756757 0.4375     0.2        0.25\n",
      " 0.62068966 0.9047619  0.44444444 1.        ]\n",
      "WARNING:tensorflow:From /opt/anaconda3/envs/tf/lib/python3.7/site-packages/tensorflow/python/ops/resource_variable_ops.py:1817: calling BaseResourceVariable.__init__ (from tensorflow.python.ops.resource_variable_ops) with constraint is deprecated and will be removed in a future version.\n",
      "Instructions for updating:\n",
      "If using Keras pass *_constraint arguments to layers.\n",
      "INFO:tensorflow:Assets written to: model1.model/assets\n"
     ]
    }
   ],
   "source": [
    "make_pred_and_save_cm(model1,x_test,y_test,label_encoder.classes_,\"linear_model.csv\")\n",
    "model1.save('model1.model')\n",
    "del model1"
   ]
  },
  {
   "cell_type": "markdown",
   "metadata": {},
   "source": [
    "Add a hidden layer to make the model a bit more complex."
   ]
  },
  {
   "cell_type": "code",
   "execution_count": 79,
   "metadata": {},
   "outputs": [
    {
     "name": "stdout",
     "output_type": "stream",
     "text": [
      "Model: \"sequential_4\"\n",
      "_________________________________________________________________\n",
      "Layer (type)                 Output Shape              Param #   \n",
      "=================================================================\n",
      "dense (Dense)                (None, 128)               3253760   \n",
      "_________________________________________________________________\n",
      "cell_type (Dense)            (None, 70)                9030      \n",
      "=================================================================\n",
      "Total params: 3,262,790\n",
      "Trainable params: 3,262,790\n",
      "Non-trainable params: 0\n",
      "_________________________________________________________________\n",
      "Epoch 1/40\n",
      "706/706 [==============================] - 18s 26ms/step - loss: 2.8496 - accuracy: 0.4400 - val_loss: 2.4165 - val_accuracy: 0.5728\n",
      "Epoch 2/40\n",
      "706/706 [==============================] - 19s 26ms/step - loss: 2.3139 - accuracy: 0.5777 - val_loss: 2.1795 - val_accuracy: 0.6299\n",
      "Epoch 3/40\n",
      "706/706 [==============================] - 18s 26ms/step - loss: 2.1663 - accuracy: 0.6225 - val_loss: 2.1618 - val_accuracy: 0.5922\n",
      "Epoch 4/40\n",
      "706/706 [==============================] - 18s 26ms/step - loss: 2.0726 - accuracy: 0.6470 - val_loss: 2.0356 - val_accuracy: 0.6599\n",
      "Epoch 5/40\n",
      "706/706 [==============================] - 18s 26ms/step - loss: 1.9864 - accuracy: 0.6688 - val_loss: 1.9445 - val_accuracy: 0.6651\n",
      "Epoch 6/40\n",
      "706/706 [==============================] - 18s 26ms/step - loss: 1.9460 - accuracy: 0.6813 - val_loss: 2.0424 - val_accuracy: 0.6732\n",
      "Epoch 7/40\n",
      "706/706 [==============================] - 18s 26ms/step - loss: 1.9005 - accuracy: 0.6880 - val_loss: 1.8153 - val_accuracy: 0.7117\n",
      "Epoch 8/40\n",
      "706/706 [==============================] - 18s 26ms/step - loss: 1.8776 - accuracy: 0.6971 - val_loss: 1.9307 - val_accuracy: 0.6539\n",
      "Epoch 9/40\n",
      "706/706 [==============================] - 18s 26ms/step - loss: 1.8395 - accuracy: 0.7030 - val_loss: 1.8579 - val_accuracy: 0.6940\n",
      "Epoch 10/40\n",
      "706/706 [==============================] - 18s 26ms/step - loss: 1.8131 - accuracy: 0.7111 - val_loss: 1.7761 - val_accuracy: 0.7353\n",
      "Epoch 11/40\n",
      "706/706 [==============================] - 19s 27ms/step - loss: 1.7805 - accuracy: 0.7184 - val_loss: 1.8213 - val_accuracy: 0.7071\n",
      "Epoch 12/40\n",
      "706/706 [==============================] - 19s 27ms/step - loss: 1.7945 - accuracy: 0.7188 - val_loss: 1.9129 - val_accuracy: 0.6743\n",
      "Epoch 13/40\n",
      "706/706 [==============================] - 18s 26ms/step - loss: 1.7729 - accuracy: 0.7235 - val_loss: 1.8988 - val_accuracy: 0.6972\n",
      "Epoch 14/40\n",
      "706/706 [==============================] - 18s 26ms/step - loss: 1.7659 - accuracy: 0.7301 - val_loss: 1.8078 - val_accuracy: 0.7022\n",
      "Epoch 15/40\n",
      "706/706 [==============================] - 18s 26ms/step - loss: 1.7248 - accuracy: 0.7312 - val_loss: 1.6959 - val_accuracy: 0.7494\n",
      "Epoch 16/40\n",
      "706/706 [==============================] - 18s 26ms/step - loss: 1.7179 - accuracy: 0.7320 - val_loss: 1.7753 - val_accuracy: 0.7233\n",
      "Epoch 17/40\n",
      "706/706 [==============================] - 18s 26ms/step - loss: 1.7185 - accuracy: 0.7386 - val_loss: 1.8674 - val_accuracy: 0.7085\n",
      "Epoch 18/40\n",
      "706/706 [==============================] - 18s 26ms/step - loss: 1.7101 - accuracy: 0.7418 - val_loss: 1.6766 - val_accuracy: 0.7244\n",
      "Epoch 19/40\n",
      "706/706 [==============================] - 18s 26ms/step - loss: 1.7024 - accuracy: 0.7448 - val_loss: 1.7099 - val_accuracy: 0.7244\n",
      "Epoch 20/40\n",
      "706/706 [==============================] - 18s 26ms/step - loss: 1.6763 - accuracy: 0.7442 - val_loss: 1.9102 - val_accuracy: 0.7039\n",
      "Epoch 21/40\n",
      "706/706 [==============================] - 18s 26ms/step - loss: 1.6496 - accuracy: 0.7512 - val_loss: 1.6423 - val_accuracy: 0.7339\n",
      "Epoch 22/40\n",
      "706/706 [==============================] - 18s 26ms/step - loss: 1.7208 - accuracy: 0.7466 - val_loss: 1.6225 - val_accuracy: 0.7480\n",
      "Epoch 23/40\n",
      "706/706 [==============================] - 18s 26ms/step - loss: 1.6508 - accuracy: 0.7540 - val_loss: 1.6582 - val_accuracy: 0.7279\n",
      "Epoch 24/40\n",
      "706/706 [==============================] - 18s 26ms/step - loss: 1.6723 - accuracy: 0.7546 - val_loss: 1.7538 - val_accuracy: 0.7124\n",
      "Epoch 25/40\n",
      "706/706 [==============================] - 18s 26ms/step - loss: 1.6250 - accuracy: 0.7571 - val_loss: 1.7670 - val_accuracy: 0.7022\n",
      "Epoch 26/40\n",
      "706/706 [==============================] - 18s 26ms/step - loss: 1.6347 - accuracy: 0.7572 - val_loss: 1.7817 - val_accuracy: 0.7088\n",
      "Epoch 27/40\n",
      "706/706 [==============================] - 18s 26ms/step - loss: 1.6338 - accuracy: 0.7561 - val_loss: 1.8068 - val_accuracy: 0.6895\n",
      "Epoch 28/40\n",
      "706/706 [==============================] - 19s 27ms/step - loss: 1.6357 - accuracy: 0.7588 - val_loss: 1.7397 - val_accuracy: 0.7406\n",
      "Epoch 29/40\n",
      "706/706 [==============================] - 19s 27ms/step - loss: 1.6302 - accuracy: 0.7592 - val_loss: 2.0111 - val_accuracy: 0.6690\n",
      "Epoch 30/40\n",
      "706/706 [==============================] - 18s 26ms/step - loss: 1.5773 - accuracy: 0.7701 - val_loss: 1.6875 - val_accuracy: 0.7392\n",
      "Epoch 31/40\n",
      "706/706 [==============================] - 18s 26ms/step - loss: 1.6256 - accuracy: 0.7671 - val_loss: 1.7383 - val_accuracy: 0.7184\n",
      "Epoch 32/40\n",
      "706/706 [==============================] - 18s 26ms/step - loss: 1.5800 - accuracy: 0.7677 - val_loss: 1.6817 - val_accuracy: 0.7208\n",
      "Epoch 33/40\n",
      "706/706 [==============================] - 18s 26ms/step - loss: 1.5843 - accuracy: 0.7688 - val_loss: 1.8752 - val_accuracy: 0.6972\n",
      "Epoch 34/40\n",
      "706/706 [==============================] - 19s 26ms/step - loss: 1.6014 - accuracy: 0.7683 - val_loss: 1.6673 - val_accuracy: 0.7483\n",
      "Epoch 35/40\n",
      "706/706 [==============================] - 18s 26ms/step - loss: 1.5270 - accuracy: 0.7760 - val_loss: 1.7623 - val_accuracy: 0.7145\n",
      "Epoch 36/40\n",
      "706/706 [==============================] - 18s 26ms/step - loss: 1.5626 - accuracy: 0.7722 - val_loss: 1.7575 - val_accuracy: 0.7275\n",
      "Epoch 37/40\n",
      "706/706 [==============================] - 18s 26ms/step - loss: 1.5679 - accuracy: 0.7754 - val_loss: 1.5554 - val_accuracy: 0.7522\n",
      "Epoch 38/40\n",
      "706/706 [==============================] - 18s 26ms/step - loss: 1.5308 - accuracy: 0.7777 - val_loss: 1.5333 - val_accuracy: 0.7635\n",
      "Epoch 39/40\n",
      "706/706 [==============================] - 18s 26ms/step - loss: 1.5444 - accuracy: 0.7761 - val_loss: 1.6420 - val_accuracy: 0.7325\n",
      "Epoch 40/40\n",
      "706/706 [==============================] - 18s 26ms/step - loss: 1.5478 - accuracy: 0.7788 - val_loss: 1.5455 - val_accuracy: 0.7607\n"
     ]
    },
    {
     "data": {
      "image/png": "[encoded data removed]",
      "text/plain": [
       "<Figure size 432x288 with 1 Axes>"
      ]
     },
     "metadata": {
      "needs_background": "light"
     },
     "output_type": "display_data"
    },
    {
     "data": {
      "image/png": "[encoded data removed]",
      "text/plain": [
       "<Figure size 432x288 with 1 Axes>"
      ]
     },
     "metadata": {
      "needs_background": "light"
     },
     "output_type": "display_data"
    }
   ],
   "source": [
    "model2 = tf.keras.models.Sequential()\n",
    "model2.add( tf.keras.layers.Input(shape=(num_inp,),name=\"cell_inp\") )\n",
    "model2.add( tf.keras.layers.Dense(128,activation=\"relu\",kernel_regularizer='l2') )\n",
    "model2.add( tf.keras.layers.Dense(num_out,activation=\"softmax\",name=\"cell_type\") )\n",
    "model2.summary()\n",
    "model2.compile(loss='categorical_crossentropy', optimizer=\"adam\", metrics=['accuracy'])\n",
    "hist2=model2.fit(x=x_train,y=y_train,epochs=40,batch_size=32,validation_data=(x_val,y_val))\n",
    "plot_hist(hist2)"
   ]
  },
  {
   "cell_type": "code",
   "execution_count": 81,
   "metadata": {},
   "outputs": [
    {
     "name": "stdout",
     "output_type": "stream",
     "text": [
      "[0.375      0.8        0.25       0.66666667 0.66666667 0.85714286\n",
      " 0.65789474 0.68       0.84210526 0.77777778 0.82352941 0.63636364\n",
      " 0.5625     0.8        0.66666667 0.70833333 0.98795181 0.86363636\n",
      " 0.64150943 0.47368421 0.6744186  0.41176471 0.35714286 0.82142857\n",
      " 0.17391304 0.82352941 0.05263158 0.09090909 0.66666667 0.1\n",
      " 1.         0.68493151 0.67857143 0.23076923 0.36363636 0.78571429\n",
      " 0.0625     0.         0.         0.95505618 0.81111111 0.87301587\n",
      " 0.93333333 0.77777778 0.46153846 0.43333333 0.88888889 0.5625\n",
      " 0.7826087  0.70833333 0.85882353 0.66666667 0.65       0.3\n",
      " 0.77142857 0.44827586 0.82857143 0.41666667 0.625      0.41666667\n",
      " 0.         0.20833333 0.2972973  0.0625     0.13333333 0.5\n",
      " 0.31034483 0.71428571 0.44444444 0.4       ]\n",
      "INFO:tensorflow:Assets written to: model2.model/assets\n"
     ]
    }
   ],
   "source": [
    "make_pred_and_save_cm(model2,x_test,y_test,label_encoder.classes_,\"onehidden_model.csv\")\n",
    "model2.save('model2.model')\n",
    "del model2"
   ]
  },
  {
   "cell_type": "markdown",
   "metadata": {},
   "source": [
    "change the optimizer..."
   ]
  },
  {
   "cell_type": "code",
   "execution_count": 82,
   "metadata": {},
   "outputs": [
    {
     "name": "stdout",
     "output_type": "stream",
     "text": [
      "Model: \"sequential_6\"\n",
      "_________________________________________________________________\n",
      "Layer (type)                 Output Shape              Param #   \n",
      "=================================================================\n",
      "dense_2 (Dense)              (None, 128)               3253760   \n",
      "_________________________________________________________________\n",
      "cell_type (Dense)            (None, 70)                9030      \n",
      "=================================================================\n",
      "Total params: 3,262,790\n",
      "Trainable params: 3,262,790\n",
      "Non-trainable params: 0\n",
      "_________________________________________________________________\n",
      "Epoch 1/40\n",
      "706/706 [==============================] - 15s 22ms/step - loss: 5.4919 - accuracy: 0.3185 - val_loss: 4.8679 - val_accuracy: 0.3324\n",
      "Epoch 2/40\n",
      "706/706 [==============================] - 16s 22ms/step - loss: 4.4566 - accuracy: 0.3581 - val_loss: 4.1129 - val_accuracy: 0.4039\n",
      "Epoch 3/40\n",
      "706/706 [==============================] - 15s 22ms/step - loss: 3.7916 - accuracy: 0.4379 - val_loss: 3.5484 - val_accuracy: 0.4787\n",
      "Epoch 4/40\n",
      "706/706 [==============================] - 16s 23ms/step - loss: 3.2861 - accuracy: 0.5014 - val_loss: 3.1182 - val_accuracy: 0.5249\n",
      "Epoch 5/40\n",
      "706/706 [==============================] - 16s 23ms/step - loss: 2.9028 - accuracy: 0.5503 - val_loss: 2.7997 - val_accuracy: 0.5693\n",
      "Epoch 6/40\n",
      "706/706 [==============================] - 16s 23ms/step - loss: 2.6119 - accuracy: 0.5861 - val_loss: 2.5584 - val_accuracy: 0.5746\n",
      "Epoch 7/40\n",
      "706/706 [==============================] - 16s 23ms/step - loss: 2.3888 - accuracy: 0.6155 - val_loss: 2.3683 - val_accuracy: 0.6253\n",
      "Epoch 8/40\n",
      "706/706 [==============================] - 16s 23ms/step - loss: 2.2149 - accuracy: 0.6398 - val_loss: 2.2184 - val_accuracy: 0.6387\n",
      "Epoch 9/40\n",
      "706/706 [==============================] - 16s 22ms/step - loss: 2.0773 - accuracy: 0.6608 - val_loss: 2.1258 - val_accuracy: 0.6507\n",
      "Epoch 10/40\n",
      "706/706 [==============================] - 16s 23ms/step - loss: 1.9668 - accuracy: 0.6787 - val_loss: 2.0158 - val_accuracy: 0.6606\n",
      "Epoch 11/40\n",
      "706/706 [==============================] - 16s 23ms/step - loss: 1.8784 - accuracy: 0.6918 - val_loss: 1.9444 - val_accuracy: 0.6761\n",
      "Epoch 12/40\n",
      "706/706 [==============================] - 16s 23ms/step - loss: 1.8026 - accuracy: 0.7037 - val_loss: 1.8798 - val_accuracy: 0.6806\n",
      "Epoch 13/40\n",
      "706/706 [==============================] - 16s 23ms/step - loss: 1.7430 - accuracy: 0.7160 - val_loss: 1.8332 - val_accuracy: 0.6814\n",
      "Epoch 14/40\n",
      "706/706 [==============================] - 16s 23ms/step - loss: 1.6903 - accuracy: 0.7252 - val_loss: 1.7874 - val_accuracy: 0.6923\n",
      "Epoch 15/40\n",
      "706/706 [==============================] - 16s 22ms/step - loss: 1.6455 - accuracy: 0.7327 - val_loss: 1.7534 - val_accuracy: 0.7029\n",
      "Epoch 16/40\n",
      "706/706 [==============================] - 16s 23ms/step - loss: 1.6056 - accuracy: 0.7438 - val_loss: 1.7157 - val_accuracy: 0.6997\n",
      "Epoch 17/40\n",
      "706/706 [==============================] - 16s 23ms/step - loss: 1.5709 - accuracy: 0.7472 - val_loss: 1.6891 - val_accuracy: 0.7155\n",
      "Epoch 18/40\n",
      "706/706 [==============================] - 16s 22ms/step - loss: 1.5411 - accuracy: 0.7571 - val_loss: 1.6698 - val_accuracy: 0.7106\n",
      "Epoch 19/40\n",
      "706/706 [==============================] - 17s 24ms/step - loss: 1.5136 - accuracy: 0.7605 - val_loss: 1.6460 - val_accuracy: 0.7191\n",
      "Epoch 20/40\n",
      "706/706 [==============================] - 16s 23ms/step - loss: 1.4885 - accuracy: 0.7677 - val_loss: 1.6199 - val_accuracy: 0.7187\n",
      "Epoch 21/40\n",
      "706/706 [==============================] - 16s 23ms/step - loss: 1.4663 - accuracy: 0.7716 - val_loss: 1.6112 - val_accuracy: 0.7311\n",
      "Epoch 22/40\n",
      "706/706 [==============================] - 16s 23ms/step - loss: 1.4439 - accuracy: 0.7780 - val_loss: 1.6038 - val_accuracy: 0.7293\n",
      "Epoch 23/40\n",
      "706/706 [==============================] - 16s 23ms/step - loss: 1.4237 - accuracy: 0.7834 - val_loss: 1.5764 - val_accuracy: 0.7092\n",
      "Epoch 24/40\n",
      "706/706 [==============================] - 16s 22ms/step - loss: 1.4048 - accuracy: 0.7855 - val_loss: 1.5861 - val_accuracy: 0.7007\n",
      "Epoch 25/40\n",
      "706/706 [==============================] - 16s 23ms/step - loss: 1.3873 - accuracy: 0.7886 - val_loss: 1.5441 - val_accuracy: 0.7328\n",
      "Epoch 26/40\n",
      "706/706 [==============================] - 16s 23ms/step - loss: 1.3731 - accuracy: 0.7935 - val_loss: 1.5467 - val_accuracy: 0.7473\n",
      "Epoch 27/40\n",
      "706/706 [==============================] - 16s 23ms/step - loss: 1.3562 - accuracy: 0.7965 - val_loss: 1.5349 - val_accuracy: 0.7459\n",
      "Epoch 28/40\n",
      "706/706 [==============================] - 16s 23ms/step - loss: 1.3415 - accuracy: 0.8004 - val_loss: 1.5715 - val_accuracy: 0.6944\n",
      "Epoch 29/40\n",
      "706/706 [==============================] - 16s 23ms/step - loss: 1.3266 - accuracy: 0.8048 - val_loss: 1.4969 - val_accuracy: 0.7483\n",
      "Epoch 30/40\n",
      "706/706 [==============================] - 16s 23ms/step - loss: 1.3133 - accuracy: 0.8066 - val_loss: 1.4847 - val_accuracy: 0.7462\n",
      "Epoch 31/40\n",
      "706/706 [==============================] - 16s 23ms/step - loss: 1.3013 - accuracy: 0.8075 - val_loss: 1.4685 - val_accuracy: 0.7554\n",
      "Epoch 32/40\n",
      "706/706 [==============================] - 16s 22ms/step - loss: 1.2867 - accuracy: 0.8154 - val_loss: 1.4642 - val_accuracy: 0.7519\n",
      "Epoch 33/40\n",
      "706/706 [==============================] - 16s 23ms/step - loss: 1.2755 - accuracy: 0.8150 - val_loss: 1.4527 - val_accuracy: 0.7508\n",
      "Epoch 34/40\n",
      "706/706 [==============================] - 16s 22ms/step - loss: 1.2631 - accuracy: 0.8169 - val_loss: 1.4492 - val_accuracy: 0.7610\n",
      "Epoch 35/40\n",
      "706/706 [==============================] - 16s 23ms/step - loss: 1.2518 - accuracy: 0.8201 - val_loss: 1.4321 - val_accuracy: 0.7543\n",
      "Epoch 36/40\n",
      "706/706 [==============================] - 16s 22ms/step - loss: 1.2423 - accuracy: 0.8215 - val_loss: 1.4634 - val_accuracy: 0.7667\n",
      "Epoch 37/40\n",
      "706/706 [==============================] - 17s 24ms/step - loss: 1.2322 - accuracy: 0.8257 - val_loss: 1.4387 - val_accuracy: 0.7642\n",
      "Epoch 38/40\n",
      "706/706 [==============================] - 17s 24ms/step - loss: 1.2210 - accuracy: 0.8271 - val_loss: 1.4076 - val_accuracy: 0.7638\n",
      "Epoch 39/40\n",
      "706/706 [==============================] - 17s 25ms/step - loss: 1.2126 - accuracy: 0.8274 - val_loss: 1.4101 - val_accuracy: 0.7712\n",
      "Epoch 40/40\n",
      "706/706 [==============================] - 17s 23ms/step - loss: 1.2018 - accuracy: 0.8294 - val_loss: 1.3968 - val_accuracy: 0.7631\n"
     ]
    },
    {
     "data": {
      "image/png": "[encoded data removed]",
      "text/plain": [
       "<Figure size 432x288 with 1 Axes>"
      ]
     },
     "metadata": {
      "needs_background": "light"
     },
     "output_type": "display_data"
    },
    {
     "data": {
      "image/png": "[encoded data removed]",
      "text/plain": [
       "<Figure size 432x288 with 1 Axes>"
      ]
     },
     "metadata": {
      "needs_background": "light"
     },
     "output_type": "display_data"
    }
   ],
   "source": [
    "model2a = tf.keras.models.Sequential()\n",
    "model2a.add( tf.keras.layers.Input(shape=(num_inp,),name=\"cell_inp\") )\n",
    "model2a.add( tf.keras.layers.Dense(128,activation=\"relu\",kernel_regularizer='l2') )\n",
    "model2a.add( tf.keras.layers.Dense(num_out,activation=\"softmax\",name=\"cell_type\") )\n",
    "model2a.summary()\n",
    "model2a.compile(loss='categorical_crossentropy', optimizer=\"sgd\", metrics=['accuracy'])\n",
    "hist2a=model2a.fit(x=x_train,y=y_train,epochs=40,batch_size=32,validation_data=(x_val,y_val))\n",
    "plot_hist(hist2a)"
   ]
  },
  {
   "cell_type": "code",
   "execution_count": 83,
   "metadata": {},
   "outputs": [
    {
     "name": "stdout",
     "output_type": "stream",
     "text": [
      "[0.1875     0.9        0.125      0.83333333 0.76190476 0.87755102\n",
      " 0.60526316 0.88       0.84210526 0.77777778 0.88235294 0.40909091\n",
      " 0.5        0.9        0.86666667 0.66666667 0.91566265 0.86363636\n",
      " 0.66037736 0.80701754 0.69767442 0.58823529 0.         0.57142857\n",
      " 0.13043478 0.70588235 0.         0.         0.         0.2\n",
      " 0.53333333 0.76712329 0.76785714 0.07692308 0.09090909 0.83333333\n",
      " 0.0625     0.         0.         0.96292135 0.9        0.85714286\n",
      " 0.93333333 0.72222222 0.53846154 0.53333333 0.8        0.5625\n",
      " 0.73913043 0.66666667 0.90588235 0.66666667 0.7        0.1\n",
      " 0.71428571 0.37931034 0.77142857 0.25       0.125      0.08333333\n",
      " 0.         0.16666667 0.51351351 0.         0.         0.\n",
      " 0.72413793 0.71428571 0.33333333 0.4       ]\n",
      "INFO:tensorflow:Assets written to: model2a.model/assets\n"
     ]
    }
   ],
   "source": [
    "make_pred_and_save_cm(model2a,x_test,y_test,label_encoder.classes_,\"onehidden_model.csv\")\n",
    "model2a.save('model2a.model')\n",
    "del model2a"
   ]
  },
  {
   "cell_type": "code",
   "execution_count": 14,
   "metadata": {},
   "outputs": [
    {
     "name": "stdout",
     "output_type": "stream",
     "text": [
      "Model: \"sequential\"\n",
      "_________________________________________________________________\n",
      "Layer (type)                 Output Shape              Param #   \n",
      "=================================================================\n",
      "cell_type (Dense)            (None, 70)                1779400   \n",
      "=================================================================\n",
      "Total params: 1,779,400\n",
      "Trainable params: 1,779,400\n",
      "Non-trainable params: 0\n",
      "_________________________________________________________________\n",
      "Epoch 1/40\n",
      "706/706 [==============================] - 5s 7ms/step - loss: 3.2600 - accuracy: 0.3223 - val_loss: 2.9760 - val_accuracy: 0.3324\n",
      "Epoch 2/40\n",
      "706/706 [==============================] - 5s 7ms/step - loss: 2.8286 - accuracy: 0.3368 - val_loss: 2.7190 - val_accuracy: 0.3532\n",
      "Epoch 3/40\n",
      "706/706 [==============================] - 5s 8ms/step - loss: 2.5962 - accuracy: 0.3789 - val_loss: 2.5295 - val_accuracy: 0.3973\n",
      "Epoch 4/40\n",
      "706/706 [==============================] - 5s 8ms/step - loss: 2.4142 - accuracy: 0.4314 - val_loss: 2.3742 - val_accuracy: 0.4544\n",
      "Epoch 5/40\n",
      "706/706 [==============================] - 6s 8ms/step - loss: 2.2629 - accuracy: 0.4769 - val_loss: 2.2450 - val_accuracy: 0.4773\n",
      "Epoch 6/40\n",
      "706/706 [==============================] - 6s 8ms/step - loss: 2.1332 - accuracy: 0.5141 - val_loss: 2.1326 - val_accuracy: 0.5104\n",
      "Epoch 7/40\n",
      "706/706 [==============================] - 5s 7ms/step - loss: 2.0205 - accuracy: 0.5423 - val_loss: 2.0340 - val_accuracy: 0.5428\n",
      "Epoch 8/40\n",
      "706/706 [==============================] - 5s 8ms/step - loss: 1.9212 - accuracy: 0.5706 - val_loss: 1.9468 - val_accuracy: 0.5668\n",
      "Epoch 9/40\n",
      "706/706 [==============================] - 5s 8ms/step - loss: 1.8327 - accuracy: 0.5930 - val_loss: 1.8697 - val_accuracy: 0.5805\n",
      "Epoch 10/40\n",
      "706/706 [==============================] - 5s 8ms/step - loss: 1.7531 - accuracy: 0.6120 - val_loss: 1.8027 - val_accuracy: 0.5999\n",
      "Epoch 11/40\n",
      "706/706 [==============================] - 5s 8ms/step - loss: 1.6812 - accuracy: 0.6304 - val_loss: 1.7382 - val_accuracy: 0.6077\n",
      "Epoch 12/40\n",
      "706/706 [==============================] - 5s 8ms/step - loss: 1.6159 - accuracy: 0.6457 - val_loss: 1.6826 - val_accuracy: 0.6239\n",
      "Epoch 13/40\n",
      "706/706 [==============================] - 5s 8ms/step - loss: 1.5561 - accuracy: 0.6604 - val_loss: 1.6324 - val_accuracy: 0.6362\n",
      "Epoch 14/40\n",
      "706/706 [==============================] - 5s 8ms/step - loss: 1.5010 - accuracy: 0.6731 - val_loss: 1.5820 - val_accuracy: 0.6472\n",
      "Epoch 15/40\n",
      "706/706 [==============================] - 5s 8ms/step - loss: 1.4502 - accuracy: 0.6862 - val_loss: 1.5398 - val_accuracy: 0.6539\n",
      "Epoch 16/40\n",
      "706/706 [==============================] - 5s 8ms/step - loss: 1.4033 - accuracy: 0.6951 - val_loss: 1.5007 - val_accuracy: 0.6634\n",
      "Epoch 17/40\n",
      "706/706 [==============================] - 5s 8ms/step - loss: 1.3600 - accuracy: 0.7062 - val_loss: 1.4620 - val_accuracy: 0.6725\n",
      "Epoch 18/40\n",
      "706/706 [==============================] - 5s 7ms/step - loss: 1.3194 - accuracy: 0.7164 - val_loss: 1.4294 - val_accuracy: 0.6792\n",
      "Epoch 19/40\n",
      "706/706 [==============================] - 5s 8ms/step - loss: 1.2813 - accuracy: 0.7243 - val_loss: 1.3938 - val_accuracy: 0.6838\n",
      "Epoch 20/40\n",
      "706/706 [==============================] - 6s 8ms/step - loss: 1.2456 - accuracy: 0.7336 - val_loss: 1.3666 - val_accuracy: 0.6895\n",
      "Epoch 21/40\n",
      "706/706 [==============================] - 5s 7ms/step - loss: 1.2123 - accuracy: 0.7413 - val_loss: 1.3372 - val_accuracy: 0.6955\n",
      "Epoch 22/40\n",
      "706/706 [==============================] - 5s 8ms/step - loss: 1.1810 - accuracy: 0.7491 - val_loss: 1.3109 - val_accuracy: 0.6983\n",
      "Epoch 23/40\n",
      "706/706 [==============================] - 5s 8ms/step - loss: 1.1513 - accuracy: 0.7574 - val_loss: 1.2864 - val_accuracy: 0.7060\n",
      "Epoch 24/40\n",
      "706/706 [==============================] - 5s 7ms/step - loss: 1.1236 - accuracy: 0.7629 - val_loss: 1.2633 - val_accuracy: 0.7113\n",
      "Epoch 25/40\n",
      "706/706 [==============================] - 5s 8ms/step - loss: 1.0968 - accuracy: 0.7695 - val_loss: 1.2414 - val_accuracy: 0.7159\n",
      "Epoch 26/40\n",
      "706/706 [==============================] - 6s 8ms/step - loss: 1.0720 - accuracy: 0.7749 - val_loss: 1.2207 - val_accuracy: 0.7177\n",
      "Epoch 27/40\n",
      "706/706 [==============================] - 6s 8ms/step - loss: 1.0480 - accuracy: 0.7802 - val_loss: 1.2008 - val_accuracy: 0.7194\n",
      "Epoch 28/40\n",
      "706/706 [==============================] - 6s 8ms/step - loss: 1.0255 - accuracy: 0.7849 - val_loss: 1.1810 - val_accuracy: 0.7258\n",
      "Epoch 29/40\n",
      "706/706 [==============================] - 5s 8ms/step - loss: 1.0037 - accuracy: 0.7887 - val_loss: 1.1646 - val_accuracy: 0.7311\n",
      "Epoch 30/40\n",
      "706/706 [==============================] - 5s 7ms/step - loss: 0.9833 - accuracy: 0.7924 - val_loss: 1.1463 - val_accuracy: 0.7378\n",
      "Epoch 31/40\n",
      "706/706 [==============================] - 5s 8ms/step - loss: 0.9636 - accuracy: 0.7960 - val_loss: 1.1317 - val_accuracy: 0.7437\n",
      "Epoch 32/40\n",
      "706/706 [==============================] - 5s 8ms/step - loss: 0.9449 - accuracy: 0.8003 - val_loss: 1.1145 - val_accuracy: 0.7420\n",
      "Epoch 33/40\n",
      "706/706 [==============================] - 5s 8ms/step - loss: 0.9269 - accuracy: 0.8038 - val_loss: 1.1004 - val_accuracy: 0.7473\n",
      "Epoch 34/40\n",
      "706/706 [==============================] - 6s 8ms/step - loss: 0.9097 - accuracy: 0.8067 - val_loss: 1.0854 - val_accuracy: 0.7501\n",
      "Epoch 35/40\n",
      "706/706 [==============================] - 5s 7ms/step - loss: 0.8932 - accuracy: 0.8094 - val_loss: 1.0724 - val_accuracy: 0.7519\n",
      "Epoch 36/40\n",
      "706/706 [==============================] - 5s 8ms/step - loss: 0.8774 - accuracy: 0.8129 - val_loss: 1.0614 - val_accuracy: 0.7554\n",
      "Epoch 37/40\n",
      "706/706 [==============================] - 5s 8ms/step - loss: 0.8622 - accuracy: 0.8155 - val_loss: 1.0496 - val_accuracy: 0.7596\n",
      "Epoch 38/40\n",
      "706/706 [==============================] - 6s 8ms/step - loss: 0.8476 - accuracy: 0.8194 - val_loss: 1.0365 - val_accuracy: 0.7614\n",
      "Epoch 39/40\n",
      "706/706 [==============================] - 6s 8ms/step - loss: 0.8335 - accuracy: 0.8229 - val_loss: 1.0247 - val_accuracy: 0.7610\n",
      "Epoch 40/40\n",
      "706/706 [==============================] - 5s 7ms/step - loss: 0.8200 - accuracy: 0.8260 - val_loss: 1.0137 - val_accuracy: 0.7638\n"
     ]
    },
    {
     "data": {
      "image/png": "[encoded data removed]",
      "text/plain": [
       "<Figure size 432x288 with 1 Axes>"
      ]
     },
     "metadata": {
      "needs_background": "light"
     },
     "output_type": "display_data"
    },
    {
     "data": {
      "image/png": "[encoded data removed]",
      "text/plain": [
       "<Figure size 432x288 with 1 Axes>"
      ]
     },
     "metadata": {
      "needs_background": "light"
     },
     "output_type": "display_data"
    },
    {
     "name": "stdout",
     "output_type": "stream",
     "text": [
      "[0.1875     0.9        0.375      0.875      0.71428571 0.87755102\n",
      " 0.68421053 0.92       0.78947368 0.7037037  0.92647059 0.5\n",
      " 0.5        0.9        0.8        0.66666667 0.91566265 0.90909091\n",
      " 0.64150943 0.68421053 0.74418605 0.52941176 0.14285714 0.53571429\n",
      " 0.13043478 0.70588235 0.05263158 0.         0.         0.3\n",
      " 0.73333333 0.76712329 0.80357143 0.         0.         0.83333333\n",
      " 0.0625     0.         0.         0.97078652 0.87777778 0.82539683\n",
      " 0.93333333 0.77777778 0.46153846 0.5        0.8        0.5625\n",
      " 0.73913043 0.66666667 0.89411765 0.7037037  0.65       0.2\n",
      " 0.54285714 0.4137931  0.62857143 0.5        0.25       0.\n",
      " 0.         0.125      0.59459459 0.         0.         0.\n",
      " 0.74137931 0.76190476 0.33333333 0.6       ]\n",
      "WARNING:tensorflow:From /opt/anaconda3/envs/tf/lib/python3.7/site-packages/tensorflow/python/ops/resource_variable_ops.py:1817: calling BaseResourceVariable.__init__ (from tensorflow.python.ops.resource_variable_ops) with constraint is deprecated and will be removed in a future version.\n",
      "Instructions for updating:\n",
      "If using Keras pass *_constraint arguments to layers.\n",
      "INFO:tensorflow:Assets written to: model1a.model/assets\n"
     ]
    }
   ],
   "source": [
    "model1a = tf.keras.models.Sequential()\n",
    "model1a.add( tf.keras.layers.Input(shape=(num_inp,),name=\"cell_inp\") )\n",
    "model1a.add( tf.keras.layers.Dense(num_out,activation=\"softmax\",name=\"cell_type\") )\n",
    "model1a.summary()\n",
    "model1a.compile(loss='categorical_crossentropy', optimizer=\"sgd\", metrics=['accuracy'])\n",
    "hist1a=model1a.fit(x=x_train,y=y_train,epochs=40,batch_size=32,validation_data=(x_val,y_val))\n",
    "plot_hist(hist1a)\n",
    "make_pred_and_save_cm(model1a,x_test,y_test,label_encoder.classes_,\"linear_noreg_sgd.csv\")\n",
    "model1a.save('model1a.model')"
   ]
  },
  {
   "cell_type": "code",
   "execution_count": 45,
   "metadata": {},
   "outputs": [
    {
     "name": "stdout",
     "output_type": "stream",
     "text": [
      "Model: \"sequential_5\"\n",
      "_________________________________________________________________\n",
      "Layer (type)                 Output Shape              Param #   \n",
      "=================================================================\n",
      "cell_type (Dense)            (None, 70)                1779400   \n",
      "=================================================================\n",
      "Total params: 1,779,400\n",
      "Trainable params: 1,779,400\n",
      "Non-trainable params: 0\n",
      "_________________________________________________________________\n",
      "Epoch 1/50\n",
      "706/706 [==============================] - 8s 12ms/step - loss: 3.4006 - accuracy: 0.3220 - val_loss: 3.1218 - val_accuracy: 0.3320\n",
      "Epoch 2/50\n",
      "706/706 [==============================] - 9s 12ms/step - loss: 2.9746 - accuracy: 0.3367 - val_loss: 2.8651 - val_accuracy: 0.3535\n",
      "Epoch 3/50\n",
      "706/706 [==============================] - 8s 12ms/step - loss: 2.7507 - accuracy: 0.3769 - val_loss: 2.6888 - val_accuracy: 0.4015\n",
      "Epoch 4/50\n",
      "706/706 [==============================] - 8s 12ms/step - loss: 2.5798 - accuracy: 0.4266 - val_loss: 2.5460 - val_accuracy: 0.4424\n",
      "Epoch 5/50\n",
      "706/706 [==============================] - 9s 12ms/step - loss: 2.4409 - accuracy: 0.4695 - val_loss: 2.4277 - val_accuracy: 0.4843\n",
      "Epoch 6/50\n",
      "706/706 [==============================] - 9s 13ms/step - loss: 2.3243 - accuracy: 0.5042 - val_loss: 2.3273 - val_accuracy: 0.5108\n",
      "Epoch 7/50\n",
      "706/706 [==============================] - 8s 12ms/step - loss: 2.2257 - accuracy: 0.5318 - val_loss: 2.2443 - val_accuracy: 0.5460\n",
      "Epoch 8/50\n",
      "706/706 [==============================] - 8s 11ms/step - loss: 2.1407 - accuracy: 0.5558 - val_loss: 2.1739 - val_accuracy: 0.5615\n",
      "Epoch 9/50\n",
      "706/706 [==============================] - 9s 12ms/step - loss: 2.0665 - accuracy: 0.5789 - val_loss: 2.1092 - val_accuracy: 0.5742\n",
      "Epoch 10/50\n",
      "706/706 [==============================] - 9s 13ms/step - loss: 2.0018 - accuracy: 0.5988 - val_loss: 2.0531 - val_accuracy: 0.5918\n",
      "Epoch 11/50\n",
      "706/706 [==============================] - 9s 12ms/step - loss: 1.9443 - accuracy: 0.6158 - val_loss: 2.0061 - val_accuracy: 0.5950\n",
      "Epoch 12/50\n",
      "706/706 [==============================] - 9s 12ms/step - loss: 1.8934 - accuracy: 0.6288 - val_loss: 1.9608 - val_accuracy: 0.6105\n",
      "Epoch 13/50\n",
      "706/706 [==============================] - 9s 12ms/step - loss: 1.8480 - accuracy: 0.6426 - val_loss: 1.9229 - val_accuracy: 0.6179\n",
      "Epoch 14/50\n",
      "706/706 [==============================] - 9s 13ms/step - loss: 1.8071 - accuracy: 0.6546 - val_loss: 1.8913 - val_accuracy: 0.6317\n",
      "Epoch 15/50\n",
      "706/706 [==============================] - 8s 12ms/step - loss: 1.7705 - accuracy: 0.6656 - val_loss: 1.8619 - val_accuracy: 0.6394\n",
      "Epoch 16/50\n",
      "706/706 [==============================] - 9s 12ms/step - loss: 1.7370 - accuracy: 0.6757 - val_loss: 1.8327 - val_accuracy: 0.6482\n",
      "Epoch 17/50\n",
      "706/706 [==============================] - 9s 12ms/step - loss: 1.7070 - accuracy: 0.6834 - val_loss: 1.8075 - val_accuracy: 0.6475\n",
      "Epoch 18/50\n",
      "706/706 [==============================] - 9s 12ms/step - loss: 1.6797 - accuracy: 0.6905 - val_loss: 1.7869 - val_accuracy: 0.6665\n",
      "Epoch 19/50\n",
      "706/706 [==============================] - 9s 12ms/step - loss: 1.6546 - accuracy: 0.7004 - val_loss: 1.7657 - val_accuracy: 0.6599\n",
      "Epoch 20/50\n",
      "706/706 [==============================] - 9s 13ms/step - loss: 1.6316 - accuracy: 0.7091 - val_loss: 1.7462 - val_accuracy: 0.6732\n",
      "Epoch 21/50\n",
      "706/706 [==============================] - 9s 13ms/step - loss: 1.6108 - accuracy: 0.7139 - val_loss: 1.7299 - val_accuracy: 0.6771\n",
      "Epoch 22/50\n",
      "706/706 [==============================] - 9s 12ms/step - loss: 1.5912 - accuracy: 0.7225 - val_loss: 1.7150 - val_accuracy: 0.6828\n",
      "Epoch 23/50\n",
      "706/706 [==============================] - 9s 12ms/step - loss: 1.5731 - accuracy: 0.7279 - val_loss: 1.7016 - val_accuracy: 0.6881\n",
      "Epoch 24/50\n",
      "706/706 [==============================] - 9s 12ms/step - loss: 1.5569 - accuracy: 0.7330 - val_loss: 1.6892 - val_accuracy: 0.6916\n",
      "Epoch 25/50\n",
      "706/706 [==============================] - 9s 12ms/step - loss: 1.5417 - accuracy: 0.7393 - val_loss: 1.6775 - val_accuracy: 0.6873\n",
      "Epoch 26/50\n",
      "706/706 [==============================] - 9s 13ms/step - loss: 1.5276 - accuracy: 0.7424 - val_loss: 1.6664 - val_accuracy: 0.6979\n",
      "Epoch 27/50\n",
      "706/706 [==============================] - 9s 12ms/step - loss: 1.5146 - accuracy: 0.7492 - val_loss: 1.6556 - val_accuracy: 0.6955\n",
      "Epoch 28/50\n",
      "706/706 [==============================] - 9s 12ms/step - loss: 1.5022 - accuracy: 0.7527 - val_loss: 1.6480 - val_accuracy: 0.6976\n",
      "Epoch 29/50\n",
      "706/706 [==============================] - 8s 12ms/step - loss: 1.4907 - accuracy: 0.7558 - val_loss: 1.6399 - val_accuracy: 0.7007\n",
      "Epoch 30/50\n",
      "706/706 [==============================] - 8s 12ms/step - loss: 1.4803 - accuracy: 0.7603 - val_loss: 1.6306 - val_accuracy: 0.7025\n",
      "Epoch 31/50\n",
      "706/706 [==============================] - 9s 13ms/step - loss: 1.4704 - accuracy: 0.7646 - val_loss: 1.6239 - val_accuracy: 0.7067\n",
      "Epoch 32/50\n",
      "706/706 [==============================] - 8s 12ms/step - loss: 1.4611 - accuracy: 0.7681 - val_loss: 1.6191 - val_accuracy: 0.7113\n",
      "Epoch 33/50\n",
      "706/706 [==============================] - 9s 12ms/step - loss: 1.4524 - accuracy: 0.7708 - val_loss: 1.6132 - val_accuracy: 0.7180\n",
      "Epoch 34/50\n",
      "706/706 [==============================] - 9s 12ms/step - loss: 1.4445 - accuracy: 0.7747 - val_loss: 1.6062 - val_accuracy: 0.7117\n",
      "Epoch 35/50\n",
      "706/706 [==============================] - 9s 12ms/step - loss: 1.4367 - accuracy: 0.7782 - val_loss: 1.5997 - val_accuracy: 0.7141\n",
      "Epoch 36/50\n",
      "706/706 [==============================] - 8s 12ms/step - loss: 1.4294 - accuracy: 0.7797 - val_loss: 1.5979 - val_accuracy: 0.7152\n",
      "Epoch 37/50\n",
      "706/706 [==============================] - 9s 12ms/step - loss: 1.4229 - accuracy: 0.7829 - val_loss: 1.5913 - val_accuracy: 0.7198\n",
      "Epoch 38/50\n",
      "706/706 [==============================] - 9s 13ms/step - loss: 1.4164 - accuracy: 0.7843 - val_loss: 1.5865 - val_accuracy: 0.7222\n",
      "Epoch 39/50\n",
      "706/706 [==============================] - 8s 12ms/step - loss: 1.4103 - accuracy: 0.7878 - val_loss: 1.5828 - val_accuracy: 0.7222\n",
      "Epoch 40/50\n",
      "706/706 [==============================] - 8s 12ms/step - loss: 1.4046 - accuracy: 0.7884 - val_loss: 1.5785 - val_accuracy: 0.7289\n",
      "Epoch 41/50\n",
      "706/706 [==============================] - 9s 12ms/step - loss: 1.3995 - accuracy: 0.7917 - val_loss: 1.5762 - val_accuracy: 0.7282\n",
      "Epoch 42/50\n",
      "706/706 [==============================] - 9s 13ms/step - loss: 1.3945 - accuracy: 0.7922 - val_loss: 1.5725 - val_accuracy: 0.7339\n",
      "Epoch 43/50\n",
      "706/706 [==============================] - 9s 12ms/step - loss: 1.3894 - accuracy: 0.7949 - val_loss: 1.5704 - val_accuracy: 0.7311\n",
      "Epoch 44/50\n",
      "706/706 [==============================] - 9s 13ms/step - loss: 1.3851 - accuracy: 0.7968 - val_loss: 1.5657 - val_accuracy: 0.7265\n",
      "Epoch 45/50\n",
      "706/706 [==============================] - 9s 13ms/step - loss: 1.3808 - accuracy: 0.7979 - val_loss: 1.5658 - val_accuracy: 0.7399\n",
      "Epoch 46/50\n",
      "706/706 [==============================] - 9s 13ms/step - loss: 1.3768 - accuracy: 0.7995 - val_loss: 1.5630 - val_accuracy: 0.7388\n",
      "Epoch 47/50\n",
      "706/706 [==============================] - 9s 13ms/step - loss: 1.3729 - accuracy: 0.8011 - val_loss: 1.5590 - val_accuracy: 0.7346\n",
      "Epoch 48/50\n",
      "706/706 [==============================] - 9s 13ms/step - loss: 1.3690 - accuracy: 0.8032 - val_loss: 1.5568 - val_accuracy: 0.7399\n",
      "Epoch 49/50\n",
      "706/706 [==============================] - 8s 12ms/step - loss: 1.3656 - accuracy: 0.8039 - val_loss: 1.5549 - val_accuracy: 0.7402\n",
      "Epoch 50/50\n",
      "706/706 [==============================] - 9s 13ms/step - loss: 1.3624 - accuracy: 0.8060 - val_loss: 1.5536 - val_accuracy: 0.7363\n"
     ]
    },
    {
     "data": {
      "image/png": "[encoded data removed]",
      "text/plain": [
       "<Figure size 432x288 with 1 Axes>"
      ]
     },
     "metadata": {
      "needs_background": "light"
     },
     "output_type": "display_data"
    },
    {
     "data": {
      "image/png": "[encoded data removed]",
      "text/plain": [
       "<Figure size 432x288 with 1 Axes>"
      ]
     },
     "metadata": {
      "needs_background": "light"
     },
     "output_type": "display_data"
    },
    {
     "name": "stdout",
     "output_type": "stream",
     "text": [
      "[0.1875     0.9        0.375      0.875      0.66666667 0.85714286\n",
      " 0.57894737 0.92       0.76315789 0.66666667 0.91176471 0.36363636\n",
      " 0.4375     0.8        0.77777778 0.66666667 0.90361446 0.95454545\n",
      " 0.64150943 0.68421053 0.72093023 0.47058824 0.14285714 0.42857143\n",
      " 0.08695652 0.70588235 0.         0.         0.         0.2\n",
      " 0.73333333 0.7260274  0.75       0.         0.         0.83333333\n",
      " 0.0625     0.         0.         0.97640449 0.85555556 0.77777778\n",
      " 0.86666667 0.77777778 0.30769231 0.46666667 0.77777778 0.5625\n",
      " 0.69565217 0.625      0.89411765 0.59259259 0.6        0.1\n",
      " 0.45714286 0.37931034 0.51428571 0.41666667 0.125      0.\n",
      " 0.         0.04166667 0.54054054 0.         0.         0.\n",
      " 0.70689655 0.71428571 0.22222222 0.6       ]\n",
      "INFO:tensorflow:Assets written to: model1b.model/assets\n"
     ]
    }
   ],
   "source": [
    "model1b = tf.keras.models.Sequential()\n",
    "model1b.add( tf.keras.layers.Input(shape=(num_inp,),name=\"cell_inp\") )\n",
    "model1b.add( tf.keras.layers.Dense(num_out,activation=\"softmax\",kernel_regularizer=tf.keras.regularizers.l2(0.001),name=\"cell_type\") )\n",
    "model1b.summary()\n",
    "model1b.compile(loss='categorical_crossentropy', optimizer=\"sgd\", metrics=['accuracy'])\n",
    "hist1b=model1b.fit(x=x_train,y=y_train,epochs=50,batch_size=32,validation_data=(x_val,y_val))\n",
    "plot_hist(hist1b)\n",
    "make_pred_and_save_cm(model1b,x_test,y_test,label_encoder.classes_,\"linear_l2reg_sgd.csv\")\n",
    "model1b.save('model1b.model')"
   ]
  },
  {
   "cell_type": "code",
   "execution_count": 48,
   "metadata": {},
   "outputs": [
    {
     "name": "stdout",
     "output_type": "stream",
     "text": [
      "Epoch 1/20\n",
      "706/706 [==============================] - 9s 13ms/step - loss: 1.2997 - accuracy: 0.8404 - val_loss: 1.5311 - val_accuracy: 0.7596\n",
      "Epoch 2/20\n",
      "706/706 [==============================] - 9s 12ms/step - loss: 1.2991 - accuracy: 0.8403 - val_loss: 1.5310 - val_accuracy: 0.7617\n",
      "Epoch 3/20\n",
      "706/706 [==============================] - 9s 12ms/step - loss: 1.2985 - accuracy: 0.8406 - val_loss: 1.5303 - val_accuracy: 0.7600\n",
      "Epoch 4/20\n",
      "706/706 [==============================] - 9s 13ms/step - loss: 1.2977 - accuracy: 0.8418 - val_loss: 1.5304 - val_accuracy: 0.7557\n",
      "Epoch 5/20\n",
      "706/706 [==============================] - 9s 13ms/step - loss: 1.2974 - accuracy: 0.8406 - val_loss: 1.5302 - val_accuracy: 0.7614\n",
      "Epoch 6/20\n",
      "706/706 [==============================] - 9s 13ms/step - loss: 1.2966 - accuracy: 0.8427 - val_loss: 1.5320 - val_accuracy: 0.7667\n",
      "Epoch 7/20\n",
      "706/706 [==============================] - 9s 13ms/step - loss: 1.2963 - accuracy: 0.8431 - val_loss: 1.5299 - val_accuracy: 0.7607\n",
      "Epoch 8/20\n",
      "706/706 [==============================] - 8s 12ms/step - loss: 1.2957 - accuracy: 0.8419 - val_loss: 1.5315 - val_accuracy: 0.7628\n",
      "Epoch 9/20\n",
      "706/706 [==============================] - 9s 12ms/step - loss: 1.2952 - accuracy: 0.8430 - val_loss: 1.5306 - val_accuracy: 0.7638\n",
      "Epoch 10/20\n",
      "706/706 [==============================] - 9s 13ms/step - loss: 1.2947 - accuracy: 0.8435 - val_loss: 1.5312 - val_accuracy: 0.7631\n",
      "Epoch 11/20\n",
      "706/706 [==============================] - 9s 13ms/step - loss: 1.2942 - accuracy: 0.8438 - val_loss: 1.5314 - val_accuracy: 0.7649\n",
      "Epoch 12/20\n",
      "706/706 [==============================] - 9s 12ms/step - loss: 1.2938 - accuracy: 0.8443 - val_loss: 1.5306 - val_accuracy: 0.7628\n",
      "Epoch 13/20\n",
      "706/706 [==============================] - 8s 12ms/step - loss: 1.2933 - accuracy: 0.8451 - val_loss: 1.5334 - val_accuracy: 0.7659\n",
      "Epoch 14/20\n",
      "706/706 [==============================] - 9s 12ms/step - loss: 1.2930 - accuracy: 0.8450 - val_loss: 1.5320 - val_accuracy: 0.7621\n",
      "Epoch 15/20\n",
      "706/706 [==============================] - 9s 12ms/step - loss: 1.2924 - accuracy: 0.8453 - val_loss: 1.5329 - val_accuracy: 0.7596\n",
      "Epoch 16/20\n",
      "706/706 [==============================] - 9s 12ms/step - loss: 1.2921 - accuracy: 0.8448 - val_loss: 1.5320 - val_accuracy: 0.7681\n",
      "Epoch 17/20\n",
      "706/706 [==============================] - 9s 13ms/step - loss: 1.2917 - accuracy: 0.8468 - val_loss: 1.5318 - val_accuracy: 0.7617\n",
      "Epoch 18/20\n",
      "706/706 [==============================] - 9s 13ms/step - loss: 1.2914 - accuracy: 0.8462 - val_loss: 1.5310 - val_accuracy: 0.7617\n",
      "Epoch 19/20\n",
      "706/706 [==============================] - 9s 12ms/step - loss: 1.2909 - accuracy: 0.8471 - val_loss: 1.5326 - val_accuracy: 0.7645\n",
      "Epoch 20/20\n",
      "706/706 [==============================] - 8s 11ms/step - loss: 1.2906 - accuracy: 0.8465 - val_loss: 1.5321 - val_accuracy: 0.7614\n"
     ]
    },
    {
     "data": {
      "image/png": "[encoded data removed]",
      "text/plain": [
       "<Figure size 432x288 with 1 Axes>"
      ]
     },
     "metadata": {
      "needs_background": "light"
     },
     "output_type": "display_data"
    },
    {
     "data": {
      "image/png": "[encoded data removed]",
      "text/plain": [
       "<Figure size 432x288 with 1 Axes>"
      ]
     },
     "metadata": {
      "needs_background": "light"
     },
     "output_type": "display_data"
    },
    {
     "name": "stdout",
     "output_type": "stream",
     "text": [
      "[0.1875     0.9        0.375      0.875      0.71428571 0.87755102\n",
      " 0.57894737 0.92       0.76315789 0.7037037  0.91176471 0.5\n",
      " 0.5        0.9        0.8        0.66666667 0.90361446 0.90909091\n",
      " 0.64150943 0.68421053 0.72093023 0.52941176 0.28571429 0.57142857\n",
      " 0.26086957 0.70588235 0.         0.         0.         0.3\n",
      " 0.73333333 0.73972603 0.78571429 0.         0.09090909 0.83333333\n",
      " 0.0625     0.         0.         0.97191011 0.85555556 0.79365079\n",
      " 0.86666667 0.83333333 0.46153846 0.5        0.77777778 0.625\n",
      " 0.69565217 0.66666667 0.88235294 0.66666667 0.6        0.2\n",
      " 0.57142857 0.44827586 0.6        0.58333333 0.375      0.16666667\n",
      " 0.         0.125      0.56756757 0.         0.         0.\n",
      " 0.74137931 0.71428571 0.33333333 0.6       ]\n",
      "INFO:tensorflow:Assets written to: model1b.model/assets\n"
     ]
    }
   ],
   "source": [
    "hist1b=model1b.fit(x=x_train,y=y_train,epochs=20,batch_size=32,validation_data=(x_val,y_val))\n",
    "plot_hist(hist1b)\n",
    "make_pred_and_save_cm(model1b,x_test,y_test,label_encoder.classes_,\"linear_l2reg_sgd.csv\")\n",
    "model1b.save('model1b.model')"
   ]
  },
  {
   "cell_type": "code",
   "execution_count": 49,
   "metadata": {},
   "outputs": [
    {
     "name": "stdout",
     "output_type": "stream",
     "text": [
      "Model: \"sequential_6\"\n",
      "_________________________________________________________________\n",
      "Layer (type)                 Output Shape              Param #   \n",
      "=================================================================\n",
      "dense (Dense)                (None, 256)               6507520   \n",
      "_________________________________________________________________\n",
      "cell_type (Dense)            (None, 70)                17990     \n",
      "=================================================================\n",
      "Total params: 6,525,510\n",
      "Trainable params: 6,525,510\n",
      "Non-trainable params: 0\n",
      "_________________________________________________________________\n",
      "Epoch 1/80\n",
      "706/706 [==============================] - 31s 43ms/step - loss: 7.6434 - accuracy: 0.3226 - val_loss: 6.7345 - val_accuracy: 0.3310\n",
      "Epoch 2/80\n",
      "706/706 [==============================] - 31s 44ms/step - loss: 6.0663 - accuracy: 0.3752 - val_loss: 5.4946 - val_accuracy: 0.4247\n",
      "Epoch 3/80\n",
      "706/706 [==============================] - 31s 44ms/step - loss: 4.9826 - accuracy: 0.4606 - val_loss: 4.5694 - val_accuracy: 0.4977\n",
      "Epoch 4/80\n",
      "706/706 [==============================] - 31s 44ms/step - loss: 4.1668 - accuracy: 0.5220 - val_loss: 3.8838 - val_accuracy: 0.5407\n",
      "Epoch 5/80\n",
      "706/706 [==============================] - 30s 43ms/step - loss: 3.5519 - accuracy: 0.5708 - val_loss: 3.3600 - val_accuracy: 0.5834\n",
      "Epoch 6/80\n",
      "706/706 [==============================] - 30s 43ms/step - loss: 3.0877 - accuracy: 0.6043 - val_loss: 2.9706 - val_accuracy: 0.6133\n",
      "Epoch 7/80\n",
      "706/706 [==============================] - 31s 43ms/step - loss: 2.7349 - accuracy: 0.6348 - val_loss: 2.6911 - val_accuracy: 0.5890\n",
      "Epoch 8/80\n",
      "706/706 [==============================] - 31s 44ms/step - loss: 2.4655 - accuracy: 0.6558 - val_loss: 2.4386 - val_accuracy: 0.6422\n",
      "Epoch 9/80\n",
      "706/706 [==============================] - 31s 43ms/step - loss: 2.2560 - accuracy: 0.6773 - val_loss: 2.2601 - val_accuracy: 0.6584\n",
      "Epoch 10/80\n",
      "706/706 [==============================] - 31s 44ms/step - loss: 2.0924 - accuracy: 0.6934 - val_loss: 2.1374 - val_accuracy: 0.6761\n",
      "Epoch 11/80\n",
      "706/706 [==============================] - 31s 43ms/step - loss: 1.9634 - accuracy: 0.7082 - val_loss: 2.0304 - val_accuracy: 0.6835\n",
      "Epoch 12/80\n",
      "706/706 [==============================] - 31s 44ms/step - loss: 1.8613 - accuracy: 0.7172 - val_loss: 1.9295 - val_accuracy: 0.6891\n",
      "Epoch 13/80\n",
      "706/706 [==============================] - 31s 43ms/step - loss: 1.7779 - accuracy: 0.7294 - val_loss: 1.8594 - val_accuracy: 0.6863\n",
      "Epoch 14/80\n",
      "706/706 [==============================] - 33s 46ms/step - loss: 1.7094 - accuracy: 0.7378 - val_loss: 1.8027 - val_accuracy: 0.6972\n",
      "Epoch 15/80\n",
      "706/706 [==============================] - 31s 44ms/step - loss: 1.6518 - accuracy: 0.7455 - val_loss: 1.7592 - val_accuracy: 0.7000\n",
      "Epoch 16/80\n",
      "706/706 [==============================] - 31s 44ms/step - loss: 1.6040 - accuracy: 0.7557 - val_loss: 1.7213 - val_accuracy: 0.7000\n",
      "Epoch 17/80\n",
      "706/706 [==============================] - 31s 44ms/step - loss: 1.5635 - accuracy: 0.7613 - val_loss: 1.6912 - val_accuracy: 0.7085\n",
      "Epoch 18/80\n",
      "706/706 [==============================] - 31s 44ms/step - loss: 1.5280 - accuracy: 0.7691 - val_loss: 1.6579 - val_accuracy: 0.7201\n",
      "Epoch 19/80\n",
      "706/706 [==============================] - 31s 43ms/step - loss: 1.4960 - accuracy: 0.7740 - val_loss: 1.6355 - val_accuracy: 0.7258\n",
      "Epoch 20/80\n",
      "706/706 [==============================] - 31s 44ms/step - loss: 1.4680 - accuracy: 0.7779 - val_loss: 1.6150 - val_accuracy: 0.7332\n",
      "Epoch 21/80\n",
      "706/706 [==============================] - 31s 44ms/step - loss: 1.4437 - accuracy: 0.7839 - val_loss: 1.5957 - val_accuracy: 0.7229\n",
      "Epoch 22/80\n",
      "706/706 [==============================] - 31s 44ms/step - loss: 1.4218 - accuracy: 0.7886 - val_loss: 1.5706 - val_accuracy: 0.7289\n",
      "Epoch 23/80\n",
      "706/706 [==============================] - 31s 43ms/step - loss: 1.4022 - accuracy: 0.7941 - val_loss: 1.5746 - val_accuracy: 0.7381\n",
      "Epoch 24/80\n",
      "706/706 [==============================] - 32s 45ms/step - loss: 1.3822 - accuracy: 0.7973 - val_loss: 1.5506 - val_accuracy: 0.7349\n",
      "Epoch 25/80\n",
      "706/706 [==============================] - 31s 44ms/step - loss: 1.3636 - accuracy: 0.8006 - val_loss: 1.5353 - val_accuracy: 0.7416\n",
      "Epoch 26/80\n",
      "706/706 [==============================] - 31s 43ms/step - loss: 1.3475 - accuracy: 0.8040 - val_loss: 1.5146 - val_accuracy: 0.7540\n",
      "Epoch 27/80\n",
      "706/706 [==============================] - 31s 44ms/step - loss: 1.3322 - accuracy: 0.8076 - val_loss: 1.5055 - val_accuracy: 0.7399\n",
      "Epoch 28/80\n",
      "706/706 [==============================] - 31s 43ms/step - loss: 1.3182 - accuracy: 0.8110 - val_loss: 1.4890 - val_accuracy: 0.7399\n",
      "Epoch 29/80\n",
      "706/706 [==============================] - 31s 44ms/step - loss: 1.3030 - accuracy: 0.8123 - val_loss: 1.4845 - val_accuracy: 0.7529\n",
      "Epoch 30/80\n",
      "706/706 [==============================] - 30s 43ms/step - loss: 1.2910 - accuracy: 0.8163 - val_loss: 1.4683 - val_accuracy: 0.7483\n",
      "Epoch 31/80\n",
      "706/706 [==============================] - 31s 43ms/step - loss: 1.2771 - accuracy: 0.8183 - val_loss: 1.4946 - val_accuracy: 0.7184\n",
      "Epoch 32/80\n",
      "706/706 [==============================] - 31s 44ms/step - loss: 1.2666 - accuracy: 0.8193 - val_loss: 1.4538 - val_accuracy: 0.7519\n",
      "Epoch 33/80\n",
      "706/706 [==============================] - 32s 45ms/step - loss: 1.2539 - accuracy: 0.8246 - val_loss: 1.4392 - val_accuracy: 0.7561\n",
      "Epoch 34/80\n",
      "706/706 [==============================] - 32s 45ms/step - loss: 1.2438 - accuracy: 0.8253 - val_loss: 1.4425 - val_accuracy: 0.7600\n",
      "Epoch 35/80\n",
      "706/706 [==============================] - 31s 44ms/step - loss: 1.2301 - accuracy: 0.8280 - val_loss: 1.4514 - val_accuracy: 0.7726\n",
      "Epoch 36/80\n",
      "706/706 [==============================] - 31s 44ms/step - loss: 1.2209 - accuracy: 0.8305 - val_loss: 1.4407 - val_accuracy: 0.7684\n",
      "Epoch 37/80\n",
      "706/706 [==============================] - 30s 43ms/step - loss: 1.2114 - accuracy: 0.8311 - val_loss: 1.4100 - val_accuracy: 0.7734\n",
      "Epoch 38/80\n",
      "706/706 [==============================] - 31s 44ms/step - loss: 1.2019 - accuracy: 0.8356 - val_loss: 1.4016 - val_accuracy: 0.7522\n",
      "Epoch 39/80\n",
      "706/706 [==============================] - 31s 44ms/step - loss: 1.1922 - accuracy: 0.8374 - val_loss: 1.4020 - val_accuracy: 0.7705\n",
      "Epoch 40/80\n",
      "706/706 [==============================] - 31s 44ms/step - loss: 1.1824 - accuracy: 0.8396 - val_loss: 1.3957 - val_accuracy: 0.7748\n",
      "Epoch 41/80\n",
      "706/706 [==============================] - 31s 44ms/step - loss: 1.1723 - accuracy: 0.8409 - val_loss: 1.3771 - val_accuracy: 0.7667\n",
      "Epoch 42/80\n",
      "706/706 [==============================] - 30s 43ms/step - loss: 1.1659 - accuracy: 0.8426 - val_loss: 1.3739 - val_accuracy: 0.7564\n",
      "Epoch 43/80\n",
      "706/706 [==============================] - 30s 43ms/step - loss: 1.1569 - accuracy: 0.8453 - val_loss: 1.3748 - val_accuracy: 0.7504\n",
      "Epoch 44/80\n",
      "706/706 [==============================] - 31s 44ms/step - loss: 1.1467 - accuracy: 0.8481 - val_loss: 1.3727 - val_accuracy: 0.7712\n",
      "Epoch 45/80\n",
      "706/706 [==============================] - 32s 46ms/step - loss: 1.1400 - accuracy: 0.8450 - val_loss: 1.3578 - val_accuracy: 0.7614\n",
      "Epoch 46/80\n",
      "706/706 [==============================] - 31s 43ms/step - loss: 1.1348 - accuracy: 0.8475 - val_loss: 1.3762 - val_accuracy: 0.7786\n",
      "Epoch 47/80\n",
      "706/706 [==============================] - 31s 44ms/step - loss: 1.1251 - accuracy: 0.8516 - val_loss: 1.3405 - val_accuracy: 0.7719\n",
      "Epoch 48/80\n",
      "706/706 [==============================] - 31s 44ms/step - loss: 1.1166 - accuracy: 0.8518 - val_loss: 1.3385 - val_accuracy: 0.7751\n",
      "Epoch 49/80\n",
      "706/706 [==============================] - 31s 44ms/step - loss: 1.1111 - accuracy: 0.8541 - val_loss: 1.3308 - val_accuracy: 0.7797\n",
      "Epoch 50/80\n",
      "706/706 [==============================] - 31s 44ms/step - loss: 1.1062 - accuracy: 0.8541 - val_loss: 1.3529 - val_accuracy: 0.7776\n",
      "Epoch 51/80\n",
      "706/706 [==============================] - 31s 45ms/step - loss: 1.0949 - accuracy: 0.8574 - val_loss: 1.3268 - val_accuracy: 0.7790\n",
      "Epoch 52/80\n",
      "706/706 [==============================] - 30s 43ms/step - loss: 1.0901 - accuracy: 0.8604 - val_loss: 1.3328 - val_accuracy: 0.7800\n",
      "Epoch 53/80\n",
      "706/706 [==============================] - 31s 44ms/step - loss: 1.0838 - accuracy: 0.8591 - val_loss: 1.3268 - val_accuracy: 0.7864\n",
      "Epoch 54/80\n",
      "706/706 [==============================] - 31s 44ms/step - loss: 1.0771 - accuracy: 0.8616 - val_loss: 1.3086 - val_accuracy: 0.7832\n",
      "Epoch 55/80\n",
      "706/706 [==============================] - 31s 44ms/step - loss: 1.0709 - accuracy: 0.8634 - val_loss: 1.3078 - val_accuracy: 0.7705\n",
      "Epoch 56/80\n",
      "706/706 [==============================] - 31s 44ms/step - loss: 1.0654 - accuracy: 0.8644 - val_loss: 1.3005 - val_accuracy: 0.7815\n",
      "Epoch 57/80\n",
      "706/706 [==============================] - 30s 42ms/step - loss: 1.0608 - accuracy: 0.8647 - val_loss: 1.3002 - val_accuracy: 0.7920\n",
      "Epoch 58/80\n",
      "706/706 [==============================] - 30s 43ms/step - loss: 1.0524 - accuracy: 0.8664 - val_loss: 1.2978 - val_accuracy: 0.7804\n",
      "Epoch 59/80\n",
      "706/706 [==============================] - 30s 43ms/step - loss: 1.0477 - accuracy: 0.8673 - val_loss: 1.2826 - val_accuracy: 0.7800\n",
      "Epoch 60/80\n",
      "706/706 [==============================] - 30s 43ms/step - loss: 1.0437 - accuracy: 0.8681 - val_loss: 1.3018 - val_accuracy: 0.7617\n",
      "Epoch 61/80\n",
      "706/706 [==============================] - 30s 43ms/step - loss: 1.0366 - accuracy: 0.8701 - val_loss: 1.2759 - val_accuracy: 0.7815\n",
      "Epoch 62/80\n",
      "706/706 [==============================] - 30s 43ms/step - loss: 1.0340 - accuracy: 0.8680 - val_loss: 1.2666 - val_accuracy: 0.7790\n",
      "Epoch 63/80\n",
      "706/706 [==============================] - 31s 44ms/step - loss: 1.0289 - accuracy: 0.8733 - val_loss: 1.3442 - val_accuracy: 0.7275\n",
      "Epoch 64/80\n",
      "706/706 [==============================] - 30s 43ms/step - loss: 1.0191 - accuracy: 0.8741 - val_loss: 1.2631 - val_accuracy: 0.7786\n",
      "Epoch 65/80\n",
      "706/706 [==============================] - 31s 44ms/step - loss: 1.0139 - accuracy: 0.8742 - val_loss: 1.3435 - val_accuracy: 0.7356\n",
      "Epoch 66/80\n",
      "706/706 [==============================] - 32s 45ms/step - loss: 1.0158 - accuracy: 0.8745 - val_loss: 1.2712 - val_accuracy: 0.7793\n",
      "Epoch 67/80\n",
      "706/706 [==============================] - 30s 43ms/step - loss: 1.0066 - accuracy: 0.8755 - val_loss: 1.2558 - val_accuracy: 0.7853\n",
      "Epoch 68/80\n",
      "706/706 [==============================] - 30s 43ms/step - loss: 1.0031 - accuracy: 0.8776 - val_loss: 1.2455 - val_accuracy: 0.7892\n",
      "Epoch 69/80\n",
      "706/706 [==============================] - 30s 43ms/step - loss: 0.9976 - accuracy: 0.8791 - val_loss: 1.2508 - val_accuracy: 0.7956\n",
      "Epoch 70/80\n",
      "706/706 [==============================] - 30s 43ms/step - loss: 0.9975 - accuracy: 0.8769 - val_loss: 1.2530 - val_accuracy: 0.7839\n",
      "Epoch 71/80\n",
      "706/706 [==============================] - 30s 43ms/step - loss: 0.9905 - accuracy: 0.8805 - val_loss: 1.2437 - val_accuracy: 0.7811\n",
      "Epoch 72/80\n",
      "706/706 [==============================] - 30s 43ms/step - loss: 0.9834 - accuracy: 0.8797 - val_loss: 1.2518 - val_accuracy: 0.7963\n",
      "Epoch 73/80\n",
      "706/706 [==============================] - 30s 43ms/step - loss: 0.9834 - accuracy: 0.8812 - val_loss: 1.2388 - val_accuracy: 0.7959\n",
      "Epoch 74/80\n",
      "706/706 [==============================] - 30s 43ms/step - loss: 0.9803 - accuracy: 0.8830 - val_loss: 1.2605 - val_accuracy: 0.7603\n",
      "Epoch 75/80\n",
      "706/706 [==============================] - 31s 43ms/step - loss: 0.9719 - accuracy: 0.8850 - val_loss: 1.2272 - val_accuracy: 0.7825\n",
      "Epoch 76/80\n",
      "706/706 [==============================] - 31s 44ms/step - loss: 0.9661 - accuracy: 0.8850 - val_loss: 1.2302 - val_accuracy: 0.7786\n",
      "Epoch 77/80\n",
      "706/706 [==============================] - 31s 44ms/step - loss: 0.9699 - accuracy: 0.8835 - val_loss: 1.2542 - val_accuracy: 0.7853\n",
      "Epoch 78/80\n",
      "706/706 [==============================] - 30s 43ms/step - loss: 0.9594 - accuracy: 0.8871 - val_loss: 1.2217 - val_accuracy: 0.7885\n",
      "Epoch 79/80\n",
      "706/706 [==============================] - 31s 44ms/step - loss: 0.9565 - accuracy: 0.8881 - val_loss: 1.2241 - val_accuracy: 0.7800\n",
      "Epoch 80/80\n",
      "706/706 [==============================] - 32s 45ms/step - loss: 0.9516 - accuracy: 0.8888 - val_loss: 1.2164 - val_accuracy: 0.7882\n"
     ]
    },
    {
     "data": {
      "image/png": "[encoded data removed]",
      "text/plain": [
       "<Figure size 432x288 with 1 Axes>"
      ]
     },
     "metadata": {
      "needs_background": "light"
     },
     "output_type": "display_data"
    },
    {
     "data": {
      "image/png": "[encoded data removed]",
      "text/plain": [
       "<Figure size 432x288 with 1 Axes>"
      ]
     },
     "metadata": {
      "needs_background": "light"
     },
     "output_type": "display_data"
    }
   ],
   "source": [
    "model2b = tf.keras.models.Sequential()\n",
    "model2b.add( tf.keras.layers.Input(shape=(num_inp,),name=\"cell_inp\") )\n",
    "model2b.add( tf.keras.layers.Dense(256,activation=\"relu\",kernel_regularizer='l2') )\n",
    "model2b.add( tf.keras.layers.Dense(num_out,activation=\"softmax\",name=\"cell_type\") )\n",
    "model2b.summary()\n",
    "model2b.compile(loss='categorical_crossentropy', optimizer=\"sgd\", metrics=['accuracy'])\n",
    "hist2b=model2b.fit(x=x_train,y=y_train,epochs=80,batch_size=32,validation_data=(x_val,y_val))\n",
    "plot_hist(hist2b)"
   ]
  },
  {
   "cell_type": "code",
   "execution_count": 53,
   "metadata": {},
   "outputs": [
    {
     "name": "stdout",
     "output_type": "stream",
     "text": [
      "Epoch 81/100\n",
      "706/706 [==============================] - 31s 43ms/step - loss: 0.9519 - accuracy: 0.8884 - val_loss: 1.2201 - val_accuracy: 0.7779\n",
      "Epoch 82/100\n",
      "706/706 [==============================] - 30s 43ms/step - loss: 0.9475 - accuracy: 0.8880 - val_loss: 1.2029 - val_accuracy: 0.7934\n",
      "Epoch 83/100\n",
      "706/706 [==============================] - 30s 43ms/step - loss: 0.9392 - accuracy: 0.8916 - val_loss: 1.2267 - val_accuracy: 0.7663\n",
      "Epoch 84/100\n",
      "706/706 [==============================] - 30s 43ms/step - loss: 0.9372 - accuracy: 0.8911 - val_loss: 1.2675 - val_accuracy: 0.7448\n",
      "Epoch 85/100\n",
      "706/706 [==============================] - 31s 44ms/step - loss: 0.9376 - accuracy: 0.8924 - val_loss: 1.2059 - val_accuracy: 0.7970\n",
      "Epoch 86/100\n",
      "706/706 [==============================] - 31s 44ms/step - loss: 0.9370 - accuracy: 0.8910 - val_loss: 1.2142 - val_accuracy: 0.7920\n",
      "Epoch 87/100\n",
      "706/706 [==============================] - 30s 43ms/step - loss: 0.9288 - accuracy: 0.8931 - val_loss: 1.1946 - val_accuracy: 0.7977\n",
      "Epoch 88/100\n",
      "706/706 [==============================] - 31s 44ms/step - loss: 0.9242 - accuracy: 0.8935 - val_loss: 1.2303 - val_accuracy: 0.7649\n",
      "Epoch 89/100\n",
      "706/706 [==============================] - 30s 42ms/step - loss: 0.9185 - accuracy: 0.8955 - val_loss: 1.1849 - val_accuracy: 0.7920\n",
      "Epoch 90/100\n",
      "706/706 [==============================] - 31s 43ms/step - loss: 0.9198 - accuracy: 0.8959 - val_loss: 1.1947 - val_accuracy: 0.7994\n",
      "Epoch 91/100\n",
      "706/706 [==============================] - 30s 43ms/step - loss: 0.9171 - accuracy: 0.8954 - val_loss: 1.1990 - val_accuracy: 0.7987\n",
      "Epoch 92/100\n",
      "706/706 [==============================] - 31s 43ms/step - loss: 0.9158 - accuracy: 0.8967 - val_loss: 1.1819 - val_accuracy: 0.7991\n",
      "Epoch 93/100\n",
      "706/706 [==============================] - 31s 43ms/step - loss: 0.9077 - accuracy: 0.8993 - val_loss: 1.1895 - val_accuracy: 0.8030\n",
      "Epoch 94/100\n",
      "706/706 [==============================] - 31s 43ms/step - loss: 0.9080 - accuracy: 0.8969 - val_loss: 1.1965 - val_accuracy: 0.7815\n",
      "Epoch 95/100\n",
      "706/706 [==============================] - 31s 43ms/step - loss: 0.9046 - accuracy: 0.8992 - val_loss: 1.1875 - val_accuracy: 0.7913\n",
      "Epoch 96/100\n",
      "706/706 [==============================] - 30s 43ms/step - loss: 0.9058 - accuracy: 0.8987 - val_loss: 1.2060 - val_accuracy: 0.7712\n",
      "Epoch 97/100\n",
      "706/706 [==============================] - 31s 43ms/step - loss: 0.9040 - accuracy: 0.8977 - val_loss: 1.1981 - val_accuracy: 0.8030\n",
      "Epoch 98/100\n",
      "706/706 [==============================] - 31s 43ms/step - loss: 0.8938 - accuracy: 0.9020 - val_loss: 1.2254 - val_accuracy: 0.7917\n",
      "Epoch 99/100\n",
      "706/706 [==============================] - 31s 44ms/step - loss: 0.8959 - accuracy: 0.9002 - val_loss: 1.2339 - val_accuracy: 0.8033\n",
      "Epoch 100/100\n",
      "706/706 [==============================] - 30s 43ms/step - loss: 0.8898 - accuracy: 0.9025 - val_loss: 1.1728 - val_accuracy: 0.8033\n"
     ]
    },
    {
     "data": {
      "image/png": "[encoded data removed]",
      "text/plain": [
       "<Figure size 432x288 with 1 Axes>"
      ]
     },
     "metadata": {
      "needs_background": "light"
     },
     "output_type": "display_data"
    },
    {
     "data": {
      "image/png": "[encoded data removed]",
      "text/plain": [
       "<Figure size 432x288 with 1 Axes>"
      ]
     },
     "metadata": {
      "needs_background": "light"
     },
     "output_type": "display_data"
    }
   ],
   "source": [
    "hist2b_1=model2b.fit(x=x_train,y=y_train,initial_epoch=80,epochs=100,batch_size=32,validation_data=(x_val,y_val))\n",
    "plot_hist(hist2b_1)"
   ]
  },
  {
   "cell_type": "code",
   "execution_count": 55,
   "metadata": {},
   "outputs": [
    {
     "name": "stdout",
     "output_type": "stream",
     "text": [
      "[0.3125     0.9        0.625      0.83333333 0.71428571 0.97959184\n",
      " 0.78947368 0.88       0.86842105 0.81481481 0.94117647 0.59090909\n",
      " 0.75       0.9        0.86666667 0.70833333 0.98795181 0.86363636\n",
      " 0.71698113 0.75438596 0.74418605 0.82352941 0.21428571 0.71428571\n",
      " 0.39130435 0.82352941 0.36842105 0.         0.         0.5\n",
      " 0.8        0.73972603 0.82142857 0.38461538 0.45454545 0.85714286\n",
      " 0.125      0.         0.1        0.91797753 0.91111111 0.84126984\n",
      " 0.93333333 0.77777778 0.61538462 0.83333333 0.82222222 0.5625\n",
      " 0.7826087  0.79166667 0.92941176 0.7037037  0.8        0.3\n",
      " 0.82857143 0.65517241 0.82857143 0.75       0.5        0.25\n",
      " 0.         0.29166667 0.67567568 0.1875     0.2        0.\n",
      " 0.74137931 0.9047619  0.44444444 1.        ]\n",
      "INFO:tensorflow:Assets written to: model2b.model/assets\n"
     ]
    }
   ],
   "source": [
    "make_pred_and_save_cm(model2b,x_test,y_test,label_encoder.classes_,\"hidden_l2reg_sgd.csv\")\n",
    "model2b.save('model2b.model')"
   ]
  },
  {
   "cell_type": "code",
   "execution_count": 120,
   "metadata": {},
   "outputs": [
    {
     "data": {
      "text/html": [
       "<div>\n",
       "<style scoped>\n",
       "    .dataframe tbody tr th:only-of-type {\n",
       "        vertical-align: middle;\n",
       "    }\n",
       "\n",
       "    .dataframe tbody tr th {\n",
       "        vertical-align: top;\n",
       "    }\n",
       "\n",
       "    .dataframe thead th {\n",
       "        text-align: right;\n",
       "    }\n",
       "</style>\n",
       "<table border=\"1\" class=\"dataframe\">\n",
       "  <thead>\n",
       "    <tr style=\"text-align: right;\">\n",
       "      <th></th>\n",
       "      <th>cell_class</th>\n",
       "      <th>called_class</th>\n",
       "      <th>cell_type</th>\n",
       "      <th>called_type</th>\n",
       "      <th>probability</th>\n",
       "      <th>agree</th>\n",
       "    </tr>\n",
       "  </thead>\n",
       "  <tbody>\n",
       "    <tr>\n",
       "      <th>0</th>\n",
       "      <td>39</td>\n",
       "      <td>39</td>\n",
       "      <td>Garbage</td>\n",
       "      <td>Garbage</td>\n",
       "      <td>0.947911</td>\n",
       "      <td>True</td>\n",
       "    </tr>\n",
       "    <tr>\n",
       "      <th>1</th>\n",
       "      <td>39</td>\n",
       "      <td>39</td>\n",
       "      <td>Garbage</td>\n",
       "      <td>Garbage</td>\n",
       "      <td>0.964306</td>\n",
       "      <td>True</td>\n",
       "    </tr>\n",
       "    <tr>\n",
       "      <th>2</th>\n",
       "      <td>39</td>\n",
       "      <td>39</td>\n",
       "      <td>Garbage</td>\n",
       "      <td>Garbage</td>\n",
       "      <td>0.097964</td>\n",
       "      <td>True</td>\n",
       "    </tr>\n",
       "    <tr>\n",
       "      <th>3</th>\n",
       "      <td>39</td>\n",
       "      <td>39</td>\n",
       "      <td>Garbage</td>\n",
       "      <td>Garbage</td>\n",
       "      <td>0.957435</td>\n",
       "      <td>True</td>\n",
       "    </tr>\n",
       "    <tr>\n",
       "      <th>4</th>\n",
       "      <td>1</td>\n",
       "      <td>1</td>\n",
       "      <td>Excit-01</td>\n",
       "      <td>Excit-01</td>\n",
       "      <td>0.538859</td>\n",
       "      <td>True</td>\n",
       "    </tr>\n",
       "    <tr>\n",
       "      <th>...</th>\n",
       "      <td>...</td>\n",
       "      <td>...</td>\n",
       "      <td>...</td>\n",
       "      <td>...</td>\n",
       "      <td>...</td>\n",
       "      <td>...</td>\n",
       "    </tr>\n",
       "    <tr>\n",
       "      <th>2805</th>\n",
       "      <td>35</td>\n",
       "      <td>35</td>\n",
       "      <td>Excit-35</td>\n",
       "      <td>Excit-35</td>\n",
       "      <td>0.972334</td>\n",
       "      <td>True</td>\n",
       "    </tr>\n",
       "    <tr>\n",
       "      <th>2806</th>\n",
       "      <td>62</td>\n",
       "      <td>62</td>\n",
       "      <td>Inhib-23</td>\n",
       "      <td>Inhib-23</td>\n",
       "      <td>0.951047</td>\n",
       "      <td>True</td>\n",
       "    </tr>\n",
       "    <tr>\n",
       "      <th>2807</th>\n",
       "      <td>22</td>\n",
       "      <td>22</td>\n",
       "      <td>Excit-22</td>\n",
       "      <td>Excit-22</td>\n",
       "      <td>0.453575</td>\n",
       "      <td>True</td>\n",
       "    </tr>\n",
       "    <tr>\n",
       "      <th>2808</th>\n",
       "      <td>35</td>\n",
       "      <td>39</td>\n",
       "      <td>Excit-35</td>\n",
       "      <td>Garbage</td>\n",
       "      <td>0.799530</td>\n",
       "      <td>False</td>\n",
       "    </tr>\n",
       "    <tr>\n",
       "      <th>2809</th>\n",
       "      <td>48</td>\n",
       "      <td>48</td>\n",
       "      <td>Inhib-09</td>\n",
       "      <td>Inhib-09</td>\n",
       "      <td>0.898915</td>\n",
       "      <td>True</td>\n",
       "    </tr>\n",
       "  </tbody>\n",
       "</table>\n",
       "<p>2810 rows × 6 columns</p>\n",
       "</div>"
      ],
      "text/plain": [
       "      cell_class  called_class cell_type called_type  probability  agree\n",
       "0             39            39   Garbage     Garbage     0.947911   True\n",
       "1             39            39   Garbage     Garbage     0.964306   True\n",
       "2             39            39   Garbage     Garbage     0.097964   True\n",
       "3             39            39   Garbage     Garbage     0.957435   True\n",
       "4              1             1  Excit-01    Excit-01     0.538859   True\n",
       "...          ...           ...       ...         ...          ...    ...\n",
       "2805          35            35  Excit-35    Excit-35     0.972334   True\n",
       "2806          62            62  Inhib-23    Inhib-23     0.951047   True\n",
       "2807          22            22  Excit-22    Excit-22     0.453575   True\n",
       "2808          35            39  Excit-35     Garbage     0.799530  False\n",
       "2809          48            48  Inhib-09    Inhib-09     0.898915   True\n",
       "\n",
       "[2810 rows x 6 columns]"
      ]
     },
     "execution_count": 120,
     "metadata": {},
     "output_type": "execute_result"
    }
   ],
   "source": [
    "pred = model2b.predict(x_test)\n",
    "cell_class = np.argmax(pred,axis=1)\n",
    "cell_type = label_encoder.inverse_transform(cell_class)\n",
    "called_class = np.argmax(y_test,axis=1)\n",
    "called_type = label_encoder.inverse_transform(called_class)\n",
    "\n",
    "df = pd.DataFrame({\"cell_class\":cell_class,\"called_class\":called_class,\"cell_type\":cell_type,\"called_type\":called_type,\"probability\":np.max(pred,axis=1)} )\n",
    "df['agree'] = df.cell_class == df.called_class\n",
    "df"
   ]
  },
  {
   "cell_type": "code",
   "execution_count": 92,
   "metadata": {},
   "outputs": [
    {
     "data": {
      "text/plain": [
       "0.800355871886121"
      ]
     },
     "execution_count": 92,
     "metadata": {},
     "output_type": "execute_result"
    }
   ],
   "source": [
    "print(df[df.agree==True].shape[0]/df.shape[0])"
   ]
  },
  {
   "cell_type": "code",
   "execution_count": 101,
   "metadata": {},
   "outputs": [
    {
     "data": {
      "image/png": "[encoded data removed]",
      "text/plain": [
       "<Figure size 432x288 with 1 Axes>"
      ]
     },
     "metadata": {
      "needs_background": "light"
     },
     "output_type": "display_data"
    }
   ],
   "source": [
    "plt.hist(df.probability[df.agree==True], 20,fc=(0, 0, 1, 0.5))\n",
    "plt.hist(df.probability[df.agree==False],20,fc=(1, 0, 0, 0.5))\n",
    "\n",
    "df.to_csv(\"test_hidden_l2_sgd_labels.csv\")"
   ]
  },
  {
   "cell_type": "code",
   "execution_count": 159,
   "metadata": {},
   "outputs": [
    {
     "data": {
      "text/html": [
       "<div>\n",
       "<style scoped>\n",
       "    .dataframe tbody tr th:only-of-type {\n",
       "        vertical-align: middle;\n",
       "    }\n",
       "\n",
       "    .dataframe tbody tr th {\n",
       "        vertical-align: top;\n",
       "    }\n",
       "\n",
       "    .dataframe thead th {\n",
       "        text-align: right;\n",
       "    }\n",
       "</style>\n",
       "<table border=\"1\" class=\"dataframe\">\n",
       "  <thead>\n",
       "    <tr style=\"text-align: right;\">\n",
       "      <th></th>\n",
       "      <th>cell_call</th>\n",
       "      <th>class1</th>\n",
       "      <th>p1</th>\n",
       "      <th>class2</th>\n",
       "      <th>p2</th>\n",
       "      <th>class3</th>\n",
       "      <th>p3</th>\n",
       "      <th>class4</th>\n",
       "      <th>p4</th>\n",
       "      <th>class5</th>\n",
       "      <th>p5</th>\n",
       "      <th>agree</th>\n",
       "    </tr>\n",
       "  </thead>\n",
       "  <tbody>\n",
       "    <tr>\n",
       "      <th>0</th>\n",
       "      <td>Garbage</td>\n",
       "      <td>Garbage</td>\n",
       "      <td>0.947911</td>\n",
       "      <td>Excit-06</td>\n",
       "      <td>0.003549</td>\n",
       "      <td>Excit-19</td>\n",
       "      <td>0.002881</td>\n",
       "      <td>Excit-04</td>\n",
       "      <td>0.002599</td>\n",
       "      <td>Excit-18</td>\n",
       "      <td>0.002405</td>\n",
       "      <td>True</td>\n",
       "    </tr>\n",
       "    <tr>\n",
       "      <th>1</th>\n",
       "      <td>Garbage</td>\n",
       "      <td>Garbage</td>\n",
       "      <td>0.964306</td>\n",
       "      <td>Inhib-01</td>\n",
       "      <td>0.001864</td>\n",
       "      <td>Inhib-06</td>\n",
       "      <td>0.001789</td>\n",
       "      <td>Inhib-15</td>\n",
       "      <td>0.001602</td>\n",
       "      <td>Inhib-02</td>\n",
       "      <td>0.001441</td>\n",
       "      <td>True</td>\n",
       "    </tr>\n",
       "    <tr>\n",
       "      <th>2</th>\n",
       "      <td>Garbage</td>\n",
       "      <td>Garbage</td>\n",
       "      <td>0.097964</td>\n",
       "      <td>Excit-36</td>\n",
       "      <td>0.066826</td>\n",
       "      <td>Excit-23</td>\n",
       "      <td>0.050085</td>\n",
       "      <td>Excit-12</td>\n",
       "      <td>0.050055</td>\n",
       "      <td>Excit-31</td>\n",
       "      <td>0.049984</td>\n",
       "      <td>True</td>\n",
       "    </tr>\n",
       "    <tr>\n",
       "      <th>3</th>\n",
       "      <td>Garbage</td>\n",
       "      <td>Garbage</td>\n",
       "      <td>0.957435</td>\n",
       "      <td>Inhib-01</td>\n",
       "      <td>0.005529</td>\n",
       "      <td>Inhib-06</td>\n",
       "      <td>0.002902</td>\n",
       "      <td>Excit-06</td>\n",
       "      <td>0.002186</td>\n",
       "      <td>Inhib-02</td>\n",
       "      <td>0.002004</td>\n",
       "      <td>True</td>\n",
       "    </tr>\n",
       "    <tr>\n",
       "      <th>4</th>\n",
       "      <td>Excit-01</td>\n",
       "      <td>Excit-01</td>\n",
       "      <td>0.538859</td>\n",
       "      <td>Excit-02</td>\n",
       "      <td>0.181999</td>\n",
       "      <td>Excit-08</td>\n",
       "      <td>0.039643</td>\n",
       "      <td>Excit-06</td>\n",
       "      <td>0.028349</td>\n",
       "      <td>Excit-03</td>\n",
       "      <td>0.026483</td>\n",
       "      <td>True</td>\n",
       "    </tr>\n",
       "    <tr>\n",
       "      <th>...</th>\n",
       "      <td>...</td>\n",
       "      <td>...</td>\n",
       "      <td>...</td>\n",
       "      <td>...</td>\n",
       "      <td>...</td>\n",
       "      <td>...</td>\n",
       "      <td>...</td>\n",
       "      <td>...</td>\n",
       "      <td>...</td>\n",
       "      <td>...</td>\n",
       "      <td>...</td>\n",
       "      <td>...</td>\n",
       "    </tr>\n",
       "    <tr>\n",
       "      <th>2804</th>\n",
       "      <td>Inhib-09</td>\n",
       "      <td>Inhib-09</td>\n",
       "      <td>0.748756</td>\n",
       "      <td>Inhib-10</td>\n",
       "      <td>0.204457</td>\n",
       "      <td>Inhib-11</td>\n",
       "      <td>0.014717</td>\n",
       "      <td>Inhib-13</td>\n",
       "      <td>0.004161</td>\n",
       "      <td>Inhib-06</td>\n",
       "      <td>0.003845</td>\n",
       "      <td>True</td>\n",
       "    </tr>\n",
       "    <tr>\n",
       "      <th>2805</th>\n",
       "      <td>Excit-35</td>\n",
       "      <td>Excit-35</td>\n",
       "      <td>0.972334</td>\n",
       "      <td>Excit-33</td>\n",
       "      <td>0.007899</td>\n",
       "      <td>Inhib-24</td>\n",
       "      <td>0.004996</td>\n",
       "      <td>Excit-28</td>\n",
       "      <td>0.001795</td>\n",
       "      <td>Excit-22</td>\n",
       "      <td>0.001727</td>\n",
       "      <td>True</td>\n",
       "    </tr>\n",
       "    <tr>\n",
       "      <th>2806</th>\n",
       "      <td>Inhib-23</td>\n",
       "      <td>Inhib-23</td>\n",
       "      <td>0.951047</td>\n",
       "      <td>Excit-35</td>\n",
       "      <td>0.039657</td>\n",
       "      <td>Excit-31</td>\n",
       "      <td>0.002978</td>\n",
       "      <td>Inhib-22</td>\n",
       "      <td>0.002666</td>\n",
       "      <td>MN-alpha</td>\n",
       "      <td>0.001301</td>\n",
       "      <td>True</td>\n",
       "    </tr>\n",
       "    <tr>\n",
       "      <th>2807</th>\n",
       "      <td>Excit-22</td>\n",
       "      <td>Excit-22</td>\n",
       "      <td>0.453575</td>\n",
       "      <td>Excit-35</td>\n",
       "      <td>0.134517</td>\n",
       "      <td>Excit-21</td>\n",
       "      <td>0.101361</td>\n",
       "      <td>Excit-12</td>\n",
       "      <td>0.092357</td>\n",
       "      <td>Excit-33</td>\n",
       "      <td>0.030996</td>\n",
       "      <td>True</td>\n",
       "    </tr>\n",
       "    <tr>\n",
       "      <th>2809</th>\n",
       "      <td>Inhib-09</td>\n",
       "      <td>Inhib-09</td>\n",
       "      <td>0.898915</td>\n",
       "      <td>Inhib-10</td>\n",
       "      <td>0.081159</td>\n",
       "      <td>Inhib-06</td>\n",
       "      <td>0.007041</td>\n",
       "      <td>Inhib-05</td>\n",
       "      <td>0.002687</td>\n",
       "      <td>Inhib-04</td>\n",
       "      <td>0.002549</td>\n",
       "      <td>True</td>\n",
       "    </tr>\n",
       "  </tbody>\n",
       "</table>\n",
       "<p>2249 rows × 12 columns</p>\n",
       "</div>"
      ],
      "text/plain": [
       "     cell_call    class1        p1    class2        p2    class3        p3  \\\n",
       "0      Garbage   Garbage  0.947911  Excit-06  0.003549  Excit-19  0.002881   \n",
       "1      Garbage   Garbage  0.964306  Inhib-01  0.001864  Inhib-06  0.001789   \n",
       "2      Garbage   Garbage  0.097964  Excit-36  0.066826  Excit-23  0.050085   \n",
       "3      Garbage   Garbage  0.957435  Inhib-01  0.005529  Inhib-06  0.002902   \n",
       "4     Excit-01  Excit-01  0.538859  Excit-02  0.181999  Excit-08  0.039643   \n",
       "...        ...       ...       ...       ...       ...       ...       ...   \n",
       "2804  Inhib-09  Inhib-09  0.748756  Inhib-10  0.204457  Inhib-11  0.014717   \n",
       "2805  Excit-35  Excit-35  0.972334  Excit-33  0.007899  Inhib-24  0.004996   \n",
       "2806  Inhib-23  Inhib-23  0.951047  Excit-35  0.039657  Excit-31  0.002978   \n",
       "2807  Excit-22  Excit-22  0.453575  Excit-35  0.134517  Excit-21  0.101361   \n",
       "2809  Inhib-09  Inhib-09  0.898915  Inhib-10  0.081159  Inhib-06  0.007041   \n",
       "\n",
       "        class4        p4    class5        p5  agree  \n",
       "0     Excit-04  0.002599  Excit-18  0.002405   True  \n",
       "1     Inhib-15  0.001602  Inhib-02  0.001441   True  \n",
       "2     Excit-12  0.050055  Excit-31  0.049984   True  \n",
       "3     Excit-06  0.002186  Inhib-02  0.002004   True  \n",
       "4     Excit-06  0.028349  Excit-03  0.026483   True  \n",
       "...        ...       ...       ...       ...    ...  \n",
       "2804  Inhib-13  0.004161  Inhib-06  0.003845   True  \n",
       "2805  Excit-28  0.001795  Excit-22  0.001727   True  \n",
       "2806  Inhib-22  0.002666  MN-alpha  0.001301   True  \n",
       "2807  Excit-12  0.092357  Excit-33  0.030996   True  \n",
       "2809  Inhib-05  0.002687  Inhib-04  0.002549   True  \n",
       "\n",
       "[2249 rows x 12 columns]"
      ]
     },
     "metadata": {},
     "output_type": "display_data"
    },
    {
     "data": {
      "text/html": [
       "<div>\n",
       "<style scoped>\n",
       "    .dataframe tbody tr th:only-of-type {\n",
       "        vertical-align: middle;\n",
       "    }\n",
       "\n",
       "    .dataframe tbody tr th {\n",
       "        vertical-align: top;\n",
       "    }\n",
       "\n",
       "    .dataframe thead th {\n",
       "        text-align: right;\n",
       "    }\n",
       "</style>\n",
       "<table border=\"1\" class=\"dataframe\">\n",
       "  <thead>\n",
       "    <tr style=\"text-align: right;\">\n",
       "      <th></th>\n",
       "      <th>cell_call</th>\n",
       "      <th>class1</th>\n",
       "      <th>p1</th>\n",
       "      <th>class2</th>\n",
       "      <th>p2</th>\n",
       "      <th>class3</th>\n",
       "      <th>p3</th>\n",
       "      <th>class4</th>\n",
       "      <th>p4</th>\n",
       "      <th>class5</th>\n",
       "      <th>p5</th>\n",
       "      <th>agree</th>\n",
       "    </tr>\n",
       "  </thead>\n",
       "  <tbody>\n",
       "    <tr>\n",
       "      <th>5</th>\n",
       "      <td>Garbage</td>\n",
       "      <td>Excit-05</td>\n",
       "      <td>0.197092</td>\n",
       "      <td>Excit-04</td>\n",
       "      <td>0.180766</td>\n",
       "      <td>Garbage</td>\n",
       "      <td>0.159478</td>\n",
       "      <td>Excit-06</td>\n",
       "      <td>0.099084</td>\n",
       "      <td>Excit-03</td>\n",
       "      <td>0.058497</td>\n",
       "      <td>False</td>\n",
       "    </tr>\n",
       "    <tr>\n",
       "      <th>8</th>\n",
       "      <td>Inhib-16</td>\n",
       "      <td>Inhib-23</td>\n",
       "      <td>0.267175</td>\n",
       "      <td>Garbage</td>\n",
       "      <td>0.156823</td>\n",
       "      <td>Inhib-16</td>\n",
       "      <td>0.149930</td>\n",
       "      <td>Inhib-17</td>\n",
       "      <td>0.130880</td>\n",
       "      <td>Inhib-01</td>\n",
       "      <td>0.066123</td>\n",
       "      <td>False</td>\n",
       "    </tr>\n",
       "    <tr>\n",
       "      <th>9</th>\n",
       "      <td>Garbage</td>\n",
       "      <td>Excit-29</td>\n",
       "      <td>0.127950</td>\n",
       "      <td>Inhib-24</td>\n",
       "      <td>0.098418</td>\n",
       "      <td>Inhib-22</td>\n",
       "      <td>0.069079</td>\n",
       "      <td>Inhib-20</td>\n",
       "      <td>0.052727</td>\n",
       "      <td>Excit-38</td>\n",
       "      <td>0.045292</td>\n",
       "      <td>False</td>\n",
       "    </tr>\n",
       "    <tr>\n",
       "      <th>13</th>\n",
       "      <td>Inhib-16</td>\n",
       "      <td>Inhib-02</td>\n",
       "      <td>0.208540</td>\n",
       "      <td>Inhib-16</td>\n",
       "      <td>0.081105</td>\n",
       "      <td>Inhib-18</td>\n",
       "      <td>0.051618</td>\n",
       "      <td>Inhib-12</td>\n",
       "      <td>0.045930</td>\n",
       "      <td>Inhib-01</td>\n",
       "      <td>0.041877</td>\n",
       "      <td>False</td>\n",
       "    </tr>\n",
       "    <tr>\n",
       "      <th>18</th>\n",
       "      <td>Excit-32</td>\n",
       "      <td>Garbage</td>\n",
       "      <td>0.389286</td>\n",
       "      <td>Excit-36</td>\n",
       "      <td>0.048347</td>\n",
       "      <td>Excit-33</td>\n",
       "      <td>0.039080</td>\n",
       "      <td>Excit-22</td>\n",
       "      <td>0.038466</td>\n",
       "      <td>Excit-29</td>\n",
       "      <td>0.032079</td>\n",
       "      <td>False</td>\n",
       "    </tr>\n",
       "    <tr>\n",
       "      <th>...</th>\n",
       "      <td>...</td>\n",
       "      <td>...</td>\n",
       "      <td>...</td>\n",
       "      <td>...</td>\n",
       "      <td>...</td>\n",
       "      <td>...</td>\n",
       "      <td>...</td>\n",
       "      <td>...</td>\n",
       "      <td>...</td>\n",
       "      <td>...</td>\n",
       "      <td>...</td>\n",
       "      <td>...</td>\n",
       "    </tr>\n",
       "    <tr>\n",
       "      <th>2797</th>\n",
       "      <td>Excit-21</td>\n",
       "      <td>Excit-35</td>\n",
       "      <td>0.291996</td>\n",
       "      <td>Excit-21</td>\n",
       "      <td>0.273889</td>\n",
       "      <td>Excit-22</td>\n",
       "      <td>0.231818</td>\n",
       "      <td>Excit-29</td>\n",
       "      <td>0.059498</td>\n",
       "      <td>Excit-34</td>\n",
       "      <td>0.025228</td>\n",
       "      <td>False</td>\n",
       "    </tr>\n",
       "    <tr>\n",
       "      <th>2798</th>\n",
       "      <td>Excit-33</td>\n",
       "      <td>Excit-35</td>\n",
       "      <td>0.469433</td>\n",
       "      <td>Excit-22</td>\n",
       "      <td>0.080424</td>\n",
       "      <td>Excit-21</td>\n",
       "      <td>0.079644</td>\n",
       "      <td>Excit-29</td>\n",
       "      <td>0.078963</td>\n",
       "      <td>Inhib-24</td>\n",
       "      <td>0.066958</td>\n",
       "      <td>False</td>\n",
       "    </tr>\n",
       "    <tr>\n",
       "      <th>2799</th>\n",
       "      <td>Excit-33</td>\n",
       "      <td>Excit-35</td>\n",
       "      <td>0.830901</td>\n",
       "      <td>Excit-33</td>\n",
       "      <td>0.139807</td>\n",
       "      <td>Excit-22</td>\n",
       "      <td>0.004550</td>\n",
       "      <td>Excit-29</td>\n",
       "      <td>0.003881</td>\n",
       "      <td>Excit-31</td>\n",
       "      <td>0.003626</td>\n",
       "      <td>False</td>\n",
       "    </tr>\n",
       "    <tr>\n",
       "      <th>2802</th>\n",
       "      <td>Excit-19</td>\n",
       "      <td>Excit-06</td>\n",
       "      <td>0.442177</td>\n",
       "      <td>Excit-19</td>\n",
       "      <td>0.433384</td>\n",
       "      <td>Excit-13</td>\n",
       "      <td>0.018609</td>\n",
       "      <td>Excit-35</td>\n",
       "      <td>0.017950</td>\n",
       "      <td>Excit-01</td>\n",
       "      <td>0.011880</td>\n",
       "      <td>False</td>\n",
       "    </tr>\n",
       "    <tr>\n",
       "      <th>2808</th>\n",
       "      <td>Garbage</td>\n",
       "      <td>Excit-35</td>\n",
       "      <td>0.799530</td>\n",
       "      <td>Garbage</td>\n",
       "      <td>0.141641</td>\n",
       "      <td>Inhib-24</td>\n",
       "      <td>0.013330</td>\n",
       "      <td>Excit-29</td>\n",
       "      <td>0.005716</td>\n",
       "      <td>Excit-28</td>\n",
       "      <td>0.004546</td>\n",
       "      <td>False</td>\n",
       "    </tr>\n",
       "  </tbody>\n",
       "</table>\n",
       "<p>561 rows × 12 columns</p>\n",
       "</div>"
      ],
      "text/plain": [
       "     cell_call    class1        p1    class2        p2    class3        p3  \\\n",
       "5      Garbage  Excit-05  0.197092  Excit-04  0.180766   Garbage  0.159478   \n",
       "8     Inhib-16  Inhib-23  0.267175   Garbage  0.156823  Inhib-16  0.149930   \n",
       "9      Garbage  Excit-29  0.127950  Inhib-24  0.098418  Inhib-22  0.069079   \n",
       "13    Inhib-16  Inhib-02  0.208540  Inhib-16  0.081105  Inhib-18  0.051618   \n",
       "18    Excit-32   Garbage  0.389286  Excit-36  0.048347  Excit-33  0.039080   \n",
       "...        ...       ...       ...       ...       ...       ...       ...   \n",
       "2797  Excit-21  Excit-35  0.291996  Excit-21  0.273889  Excit-22  0.231818   \n",
       "2798  Excit-33  Excit-35  0.469433  Excit-22  0.080424  Excit-21  0.079644   \n",
       "2799  Excit-33  Excit-35  0.830901  Excit-33  0.139807  Excit-22  0.004550   \n",
       "2802  Excit-19  Excit-06  0.442177  Excit-19  0.433384  Excit-13  0.018609   \n",
       "2808   Garbage  Excit-35  0.799530   Garbage  0.141641  Inhib-24  0.013330   \n",
       "\n",
       "        class4        p4    class5        p5  agree  \n",
       "5     Excit-06  0.099084  Excit-03  0.058497  False  \n",
       "8     Inhib-17  0.130880  Inhib-01  0.066123  False  \n",
       "9     Inhib-20  0.052727  Excit-38  0.045292  False  \n",
       "13    Inhib-12  0.045930  Inhib-01  0.041877  False  \n",
       "18    Excit-22  0.038466  Excit-29  0.032079  False  \n",
       "...        ...       ...       ...       ...    ...  \n",
       "2797  Excit-29  0.059498  Excit-34  0.025228  False  \n",
       "2798  Excit-29  0.078963  Inhib-24  0.066958  False  \n",
       "2799  Excit-29  0.003881  Excit-31  0.003626  False  \n",
       "2802  Excit-35  0.017950  Excit-01  0.011880  False  \n",
       "2808  Excit-29  0.005716  Excit-28  0.004546  False  \n",
       "\n",
       "[561 rows x 12 columns]"
      ]
     },
     "metadata": {},
     "output_type": "display_data"
    }
   ],
   "source": [
    "\n",
    "called = pd.DataFrame({\"cell_call\":ohe_encoder.inverse_transform(y_test)})\n",
    "c_class=pd.DataFrame( pred.argsort(axis=1)[:,-1:-6:-1], columns=[\"class1\",\"class2\",\"class3\",\"class4\",\"class5\"] )\n",
    "probs = pd.DataFrame( np.sort(pred,axis=1)[:,-1:-6:-1], columns=[\"p1\",\"p2\",\"p3\",\"p4\",\"p5\"] )\n",
    "c_type = c_class.apply(label_encoder.inverse_transform)\n",
    "mix = pd.concat([called,c_type,probs],axis=1)\n",
    "mix[\"agree\"]=mix.cell_call==mix.class1\n",
    "mix = mix[ [\"cell_call\",\"class1\",\"p1\",\"class2\",\"p2\",\"class3\",\"p3\",\"class4\",\"p4\",\"class5\",\"p5\",\"agree\"] ]\n",
    "\n",
    "display(mix[mix.agree==True])\n",
    "display(mix[mix.agree==False])\n"
   ]
  }
 ],
 "metadata": {
  "colab": {
   "authorship_tag": "ABX9TyMFNi0/gfUtGvgFpfRTRqDO",
   "collapsed_sections": [],
   "mount_file_id": "1qi6GCqs3UwUZq-QBgv5kDKHBwdk2lAG6",
   "name": "dirty_neurons.ipynb",
   "provenance": [],
   "toc_visible": true
  },
  "kernelspec": {
   "display_name": "Python 3",
   "language": "python",
   "name": "python3"
  },
  "language_info": {
   "codemirror_mode": {
    "name": "ipython",
    "version": 3
   },
   "file_extension": ".py",
   "mimetype": "text/x-python",
   "name": "python",
   "nbconvert_exporter": "python",
   "pygments_lexer": "ipython3",
   "version": "3.7.6"
  }
 },
 "nbformat": 4,
 "nbformat_minor": 4
}
